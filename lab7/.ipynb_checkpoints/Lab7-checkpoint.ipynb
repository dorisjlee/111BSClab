{
 "metadata": {
  "name": "",
  "signature": "sha256:674877ade36030f9408e9e71e5e229105806d0f2b64111ebff155c31f3143a84"
 },
 "nbformat": 3,
 "nbformat_minor": 0,
 "worksheets": [
  {
   "cells": [
    {
     "cell_type": "code",
     "collapsed": false,
     "input": [
      "%pylab inline "
     ],
     "language": "python",
     "metadata": {},
     "outputs": [
      {
       "output_type": "stream",
       "stream": "stdout",
       "text": [
        "Populating the interactive namespace from numpy and matplotlib\n"
       ]
      }
     ],
     "prompt_number": 1
    },
    {
     "cell_type": "heading",
     "level": 2,
     "metadata": {},
     "source": [
      "7.1"
     ]
    },
    {
     "cell_type": "code",
     "collapsed": false,
     "input": [
      "v = np.array([10.3e-3,45.6e-3,101e-3,258e-3,477e-3,771e-3,1.01,1.25,2.56,5.08,8.64])\n",
      "i = np.array([0.0002,0.001,0.002,0.005,0.0100,0.015,0.020,0.025,0.05,0.1001,0.1709])*10**(-3)\n",
      "plt.plot(i,v,'o')"
     ],
     "language": "python",
     "metadata": {},
     "outputs": [
      {
       "metadata": {},
       "output_type": "pyout",
       "prompt_number": 2,
       "text": [
        "[<matplotlib.lines.Line2D at 0x108524950>]"
       ]
      },
      {
       "metadata": {},
       "output_type": "display_data",
       "png": "[encoded data removed]",
       "text": [
        "<matplotlib.figure.Figure at 0x1084f7690>"
       ]
      }
     ],
     "prompt_number": 2
    },
    {
     "cell_type": "code",
     "collapsed": false,
     "input": [
      "def fit_and_plot(x,y,xlabel=\"\",ylabel=\"\",title=\"\",zeroed=False,annotate_fit= True,right_words = False,error_bar=\"\",sci_lim = False,annotate=\"\",right_annotate=False):\n",
      "#     x=1./x**2\n",
      "#     y=1./y\n",
      "#     fig = plt.figure()\n",
      "    fig = plt.figure()\n",
      "    ax1 = fig.add_subplot(111)\n",
      "    ax1.plot(x,y,'o')\n",
      "    z = np.polyfit(x,y, 1) \n",
      "    print z\n",
      "    p = np.poly1d(z)\n",
      "    print p\n",
      "    if zeroed : \n",
      "        a = np.linspace(0,max(x))\n",
      "    else:\n",
      "        a = np.linspace(min(x),max(x))\n",
      "    ax1.plot(a, p(np.linspace(min(x),max(x))),color=\"red\")\n",
      "    if annotate_fit: \n",
      "        slope = z[0]\n",
      "        intercept = z[1]\n",
      "        if right_words:    \n",
      "            ax1.text(0.48,0.85,\"y= %.5f x + %.5f\"%(slope,intercept), fontsize=13,transform=ax1.transAxes)\n",
      "        else:\n",
      "            ax1.text(0.03,0.85,\"y= %.5f x + %.5f\"%(slope,intercept), fontsize=13,transform=ax1.transAxes)\n",
      "    if title !=\"\":\n",
      "        plt.title(title,fontsize=13 )    \n",
      "        plt.xlabel(xlabel,fontsize=12)\n",
      "        plt.ylabel(ylabel,fontsize=12)\n",
      "#     ax1 = fig.add_subplot(111)\n",
      "#     ax1.text(0.03,0.8,\"y= %.5f x %.5f\"%(p[0],p[1]), fontsize=13,transform=ax.transAxes)\n",
      "    if annotate!=\"\":\n",
      "        if right_annotate: \n",
      "            ax1.text(0.48,0.85,annotate, fontsize=13,transform=ax1.transAxes)\n",
      "    if error_bar!=\"\":\n",
      "        ax1.errorbar(x, y, yerr=error_bar, fmt='o')\n",
      "    if sci_lim:\n",
      "        plt.ticklabel_format(style='sci', axis='x', scilimits=(0,0))\n",
      "    plt.tick_params(axis='both', which='major', labelsize=12)\n",
      "    plt.tick_params(axis='both', which='minor', labelsize=12)\n",
      "    return p"
     ],
     "language": "python",
     "metadata": {},
     "outputs": [],
     "prompt_number": 3
    },
    {
     "cell_type": "code",
     "collapsed": false,
     "input": [
      "fit_and_plot(-i,v,title=\"7.1\",xlabel=\"Current[A]\",ylabel=\"Voltage[V]\",sci_lim=True)"
     ],
     "language": "python",
     "metadata": {},
     "outputs": [
      {
       "output_type": "stream",
       "stream": "stdout",
       "text": [
        "[ -5.06376974e+04  -1.06079878e-03]\n",
        " \n",
        "-5.064e+04 x - 0.001061\n"
       ]
      },
      {
       "metadata": {},
       "output_type": "pyout",
       "prompt_number": 15,
       "text": [
        "poly1d([ -5.06376974e+04,  -1.06079878e-03])"
       ]
      },
      {
       "metadata": {},
       "output_type": "display_data",
       "png": "[encoded data removed]",
       "text": [
        "<matplotlib.figure.Figure at 0x1085c57d0>"
       ]
      }
     ],
     "prompt_number": 15
    },
    {
     "cell_type": "heading",
     "level": 4,
     "metadata": {},
     "source": [
      "Percent Error"
     ]
    },
    {
     "cell_type": "code",
     "collapsed": false,
     "input": [
      "(5.06376974e04-47e3)/47e3*100"
     ],
     "language": "python",
     "metadata": {},
     "outputs": [
      {
       "metadata": {},
       "output_type": "pyout",
       "prompt_number": 7,
       "text": [
        "7.7397817021276545"
       ]
      }
     ],
     "prompt_number": 7
    },
    {
     "cell_type": "code",
     "collapsed": false,
     "input": [
      "def compute_uncertainty(value,basic_range,mV=False):\n",
      "    result = 0.012/100.*value+0.004/100.*basic_range\n",
      "    if (mV):\n",
      "        return str(result*1e3)+\"mV\" \n",
      "    return result "
     ],
     "language": "python",
     "metadata": {},
     "outputs": [],
     "prompt_number": 9
    },
    {
     "cell_type": "code",
     "collapsed": false,
     "input": [
      "for ii in i:\n",
      "    print compute_uncertainty(ii,10e-3,True)"
     ],
     "language": "python",
     "metadata": {},
     "outputs": [
      {
       "output_type": "stream",
       "stream": "stdout",
       "text": [
        "0.000400024mV\n",
        "0.00040012mV\n",
        "0.00040024mV\n",
        "0.0004006mV\n",
        "0.0004012mV\n",
        "0.0004018mV\n",
        "0.0004024mV\n",
        "0.000403mV\n",
        "0.000406mV\n",
        "0.000412012mV\n",
        "0.000420508mV\n"
       ]
      }
     ],
     "prompt_number": 11
    },
    {
     "cell_type": "code",
     "collapsed": false,
     "input": [
      "for j in v:\n",
      "    print compute_uncertainty(j,200e-3,True)"
     ],
     "language": "python",
     "metadata": {},
     "outputs": [
      {
       "output_type": "stream",
       "stream": "stdout",
       "text": [
        "0.009236mV\n",
        "0.013472mV\n",
        "0.02012mV\n",
        "0.03896mV\n",
        "0.06524mV\n",
        "0.10052mV\n",
        "0.1292mV\n",
        "0.158mV\n",
        "0.3152mV\n",
        "0.6176mV\n",
        "1.0448mV\n"
       ]
      }
     ],
     "prompt_number": 14
    },
    {
     "cell_type": "heading",
     "level": 1,
     "metadata": {},
     "source": [
      "7.8 Exponentiator"
     ]
    },
    {
     "cell_type": "code",
     "collapsed": false,
     "input": [
      "from scipy.optimize import curve_fit"
     ],
     "language": "python",
     "metadata": {},
     "outputs": []
    },
    {
     "cell_type": "code",
     "collapsed": false,
     "input": [
      "def expf(x, a, b, c):\n",
      "    return a * np.exp(-b * x) + c\n",
      "\n",
      "data = v_in\n",
      "# x = np.linspace(0,-0.6,50)\n",
      "# # y = func(x)\n",
      "# # yn = y + 0.2*np.random.normal(size=len(x))\n",
      "# y = func(x, 2.5, 1.3, 0.5)\n",
      "x =v_in\n",
      "y=v_out\n",
      "yn =y\n",
      "popt, pcov = curve_fit(expf, x, yn)\n",
      "\n",
      "plt.plot(x, yn, 'ko', label=\"Original Noised Data\")\n",
      "plt.plot(x, expf(x, *popt), 'r-', label=\"Fitted Curve\")\n",
      "plt.legend()\n",
      "plt.show()"
     ],
     "language": "python",
     "metadata": {},
     "outputs": [
      {
       "metadata": {},
       "output_type": "display_data",
       "png": "[encoded data removed]",
       "text": [
        "<matplotlib.figure.Figure at 0x10a48f350>"
       ]
      }
     ],
     "prompt_number": 103
    },
    {
     "cell_type": "code",
     "collapsed": false,
     "input": [
      "v_in = np.array([-1.08,-1.28,-1.51,-1.69,-2.24,-2.89,-3.87,-4.67,-94e-3,-562e-3,-610e-3,-580e-3,-900e-3,-603e-3,-588e-3,-598e-3,-601e-3,-201e-3,-32e-3,-422e-3,-478e-3])\n",
      "v_out = np.array([10.6,10.6,10.5,10.5,10.5,10.4,10.4,10.3,14.9e-3,1.21,8.05,1.57,10.6,5.62,2.46,3.39,6.12,8.03e-3,7.82e-3,202e-3,282e-3])\n",
      "plt.plot(v_in,v_out,'o')\n",
      "plt.xlim(-0.6,0)"
     ],
     "language": "python",
     "metadata": {},
     "outputs": [
      {
       "metadata": {},
       "output_type": "pyout",
       "prompt_number": 42,
       "text": [
        "(-0.6, 0)"
       ]
      },
      {
       "metadata": {},
       "output_type": "display_data",
       "png": "[encoded data removed]",
       "text": [
        "<matplotlib.figure.Figure at 0x108e170d0>"
       ]
      }
     ],
     "prompt_number": 42
    },
    {
     "cell_type": "heading",
     "level": 1,
     "metadata": {},
     "source": [
      "7.6 Logarithm "
     ]
    },
    {
     "cell_type": "code",
     "collapsed": false,
     "input": [
      "v_in = np.array([-8.5,-6.8,-3.64,-684e-3,-3.88e-3,-340e-3])#Yellow\n",
      "v_out = np.array([799e-3,777e-3,734e-3,620e-3,549e-3,603e-3])#Green\n",
      "plt.plot(v_in,v_out,'o')\n",
      "# plt.xlim(-0.6,0)"
     ],
     "language": "python",
     "metadata": {},
     "outputs": [
      {
       "metadata": {},
       "output_type": "pyout",
       "prompt_number": 71,
       "text": [
        "[<matplotlib.lines.Line2D at 0x109c60590>]"
       ]
      },
      {
       "metadata": {},
       "output_type": "display_data",
       "png": "[encoded data removed]",
       "text": [
        "<matplotlib.figure.Figure at 0x109c39f50>"
       ]
      }
     ],
     "prompt_number": 71
    },
    {
     "cell_type": "code",
     "collapsed": false,
     "input": [
      "# v_in = np.array([-6.96,-8.5,-3.31,-2.09])#Yellow\n",
      "# v_out = np.array([529e-3,76.0e-3,692e-3,675e-3])#Green\n",
      "# plt.plot(v_in,v_out,'o')\n",
      "# # plt.xlim(-0.6,0)"
     ],
     "language": "python",
     "metadata": {},
     "outputs": [],
     "prompt_number": 83
    },
    {
     "cell_type": "code",
     "collapsed": false,
     "input": [
      "# v_in = np.array([-2.05,-3.12,-4.89,-6.32,-814e-3,-524e-3,-334e-3,-106e-3])#Yellow\n",
      "# v_out = np.array([631e-3,653e-3,723e-3,779e-3,600e-3,605e-3,595e-3,528e-3])#Green\n",
      "# plt.plot(v_in,v_out,'o')\n",
      "# # plt.xlim(-0.6,0)"
     ],
     "language": "python",
     "metadata": {},
     "outputs": [],
     "prompt_number": 84
    },
    {
     "cell_type": "code",
     "collapsed": false,
     "input": [
      "v_in = np.array([-683e-3,-1.28,-4.89,-6.05,-1.01,-1.51,-932e-3,-822e-3])#Yellow\n",
      "v_out = np.array([-613e-3,624e-3,727e-3,737e-3,607e-3,634e-3,611e-3,606e-3])#Green\n",
      "plt.plot(v_in,v_out,'o')\n",
      "# plt.xlim(-2.5,0.6)"
     ],
     "language": "python",
     "metadata": {},
     "outputs": [
      {
       "metadata": {},
       "output_type": "pyout",
       "prompt_number": 92,
       "text": [
        "[<matplotlib.lines.Line2D at 0x10a549210>]"
       ]
      },
      {
       "metadata": {},
       "output_type": "display_data",
       "png": "[encoded data removed]",
       "text": [
        "<matplotlib.figure.Figure at 0x10a3654d0>"
       ]
      }
     ],
     "prompt_number": 92
    },
    {
     "cell_type": "heading",
     "level": 1,
     "metadata": {},
     "source": [
      "7.9 Squaring Module"
     ]
    },
    {
     "cell_type": "markdown",
     "metadata": {},
     "source": [
      "The general trend of the data follows a squared behaviour. The reason why$ \\sqrt{1} \\neq 1$ on our graph is because the diodes on the first and third subcircuit of the squaring module is not matched. Since the circuit effectively exponentiates and logs the signal, therefore if the isat is not matched then it doesn't exactly cancel so the $\\sqrt{}$ magnitudes is a bit off."
     ]
    },
    {
     "cell_type": "code",
     "collapsed": false,
     "input": [
      "v_in = np.array([-13.3e-3,-6.08,-4.55,-2.6,-1.42,-751e-3,-387e-3,-209e-3,-108e-3])\n",
      "v_out = np.array([334e-3,7.55,5.33,4.48,3.77,3.06,2.37,1.67,850e-3])\n",
      "plt.plot(v_out,abs(v_in),'o')\n",
      "# plt.xlim(-2.5,0.6)"
     ],
     "language": "python",
     "metadata": {},
     "outputs": [
      {
       "metadata": {},
       "output_type": "pyout",
       "prompt_number": 4,
       "text": [
        "[<matplotlib.lines.Line2D at 0x1123e1950>]"
       ]
      },
      {
       "metadata": {},
       "output_type": "display_data",
       "png": "[encoded data removed]",
       "text": [
        "<matplotlib.figure.Figure at 0x112351f90>"
       ]
      }
     ],
     "prompt_number": 4
    },
    {
     "cell_type": "heading",
     "level": 1,
     "metadata": {},
     "source": [
      "7.11"
     ]
    },
    {
     "cell_type": "code",
     "collapsed": false,
     "input": [
      "# v_in = np.array([2.52,4.04,4.92,5.18,10.6])#Blue (Input)\n",
      "# v_out = np.array([11.1,11.1,11.05,11.0,10.9])#Red(Output)\n",
      "# plt.plot(v_out,abs(v_in),'o')\n",
      "# a = np.linspace(10.9,11.1)\n",
      "# plt.plot(a,np.sqrt(a),'o')"
     ],
     "language": "python",
     "metadata": {},
     "outputs": [],
     "prompt_number": 16
    },
    {
     "cell_type": "code",
     "collapsed": false,
     "input": [
      "v_in = np.array([-8.45,-6.48,-4.91,-3.04,-1.50,-27.8e-3,-751e-3,-516e-3])#Blue (Input)\n",
      "v_out = np.array([1.98,1.90,1.80,1.72,1.64,835e-3,1.53,1.41])#Red(Output)\n",
      "plt.plot(v_in,v_out,'o')"
     ],
     "language": "python",
     "metadata": {},
     "outputs": [
      {
       "metadata": {},
       "output_type": "pyout",
       "prompt_number": 15,
       "text": [
        "[<matplotlib.lines.Line2D at 0x112904150>]"
       ]
      },
      {
       "metadata": {},
       "output_type": "display_data",
       "png": "[encoded data removed]",
       "text": [
        "<matplotlib.figure.Figure at 0x1127d0d10>"
       ]
      }
     ],
     "prompt_number": 15
    },
    {
     "cell_type": "code",
     "collapsed": false,
     "input": [],
     "language": "python",
     "metadata": {},
     "outputs": []
    }
   ],
   "metadata": {}
  }
 ]
}