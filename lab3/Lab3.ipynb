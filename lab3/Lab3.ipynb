{
 "metadata": {
  "name": "",
  "signature": "sha256:91800ddf5db4e64e5e32bfc6675f5c16fcad2cfb3bb1f92246a41e29dfe65c40"
 },
 "nbformat": 3,
 "nbformat_minor": 0,
 "worksheets": [
  {
   "cells": [
    {
     "cell_type": "code",
     "collapsed": false,
     "input": [
      "%pylab inline"
     ],
     "language": "python",
     "metadata": {},
     "outputs": [
      {
       "output_type": "stream",
       "stream": "stdout",
       "text": [
        "Populating the interactive namespace from numpy and matplotlib\n"
       ]
      }
     ],
     "prompt_number": 27
    },
    {
     "cell_type": "code",
     "collapsed": false,
     "input": [
      "def compute_uncertainty(value,basic_range):\n",
      "    return 0.012/100.*value+0.004/100.*basic_range"
     ],
     "language": "python",
     "metadata": {},
     "outputs": [],
     "prompt_number": 28
    },
    {
     "cell_type": "code",
     "collapsed": false,
     "input": [
      "compute_uncertainty(4.419e-3,100e3)"
     ],
     "language": "python",
     "metadata": {},
     "outputs": [
      {
       "metadata": {},
       "output_type": "pyout",
       "prompt_number": 50,
       "text": [
        "4.00000053028"
       ]
      }
     ],
     "prompt_number": 50
    },
    {
     "cell_type": "code",
     "collapsed": false,
     "input": [
      "compute_uncertainty(4.419e-3,100e-3)"
     ],
     "language": "python",
     "metadata": {},
     "outputs": [
      {
       "metadata": {},
       "output_type": "pyout",
       "prompt_number": 48,
       "text": [
        "4.530280000000001e-06"
       ]
      }
     ],
     "prompt_number": 48
    },
    {
     "cell_type": "code",
     "collapsed": false,
     "input": [
      "compute_uncertainty(2.560e-3,100e-3)"
     ],
     "language": "python",
     "metadata": {},
     "outputs": [
      {
       "metadata": {},
       "output_type": "pyout",
       "prompt_number": 49,
       "text": [
        "4.307200000000001e-06"
       ]
      }
     ],
     "prompt_number": 49
    },
    {
     "cell_type": "code",
     "collapsed": false,
     "input": [
      "def fit_and_plot(x,y,xlabel=\"\",ylabel=\"\",title=\"\",zeroed=False,annotate_fit= True,right_words = False,error_bar=\"\",sci_lim = False):\n",
      "#     x=1./x**2\n",
      "#     y=1./y\n",
      "#     fig = plt.figure()\n",
      "    fig = plt.figure()\n",
      "    ax1 = fig.add_subplot(111)\n",
      "    ax1.plot(x,y,'o')\n",
      "    z = np.polyfit(x,y, 1) \n",
      "    print z\n",
      "    p = np.poly1d(z)\n",
      "    print p\n",
      "    if zeroed : \n",
      "        a = np.linspace(0,max(x))\n",
      "    else:\n",
      "        a = np.linspace(min(x),max(x))\n",
      "    ax1.plot(a, p(np.linspace(min(x),max(x))),color=\"red\")\n",
      "    if annotate_fit: \n",
      "        slope = z[0]\n",
      "        intercept = z[1]\n",
      "        if right_words:    \n",
      "            ax1.text(0.48,0.85,\"y= %.5f x + %.5f\"%(slope,intercept), fontsize=13,transform=ax1.transAxes)\n",
      "        else:\n",
      "            ax1.text(0.03,0.85,\"y= %.5f x + %.5f\"%(slope,intercept), fontsize=13,transform=ax1.transAxes)\n",
      "    if title !=\"\":\n",
      "        plt.title(title,fontsize=13 )    \n",
      "        plt.xlabel(xlabel,fontsize=12)\n",
      "        plt.ylabel(ylabel,fontsize=12)\n",
      "#     ax1 = fig.add_subplot(111)\n",
      "#     ax1.text(0.03,0.8,\"y= %.5f x %.5f\"%(p[0],p[1]), fontsize=13,transform=ax.transAxes)\n",
      "    if error_bar!=\"\":\n",
      "        ax1.errorbar(x, y, yerr=error_bar, fmt='o')\n",
      "    if sci_lim:\n",
      "        plt.ticklabel_format(style='sci', axis='x', scilimits=(0,0))\n",
      "    plt.tick_params(axis='both', which='major', labelsize=12)\n",
      "    plt.tick_params(axis='both', which='minor', labelsize=12)\n",
      "    return p"
     ],
     "language": "python",
     "metadata": {},
     "outputs": [],
     "prompt_number": 54
    },
    {
     "cell_type": "heading",
     "level": 1,
     "metadata": {},
     "source": [
      "3.3"
     ]
    },
    {
     "cell_type": "code",
     "collapsed": false,
     "input": [
      "r = [34.69e6,29.48e6,17.05e6,22.25e6,27.47e6,40.1e6]\n",
      "v =[5.761,5.620,5.030,5.58,5.61,5.80]\n",
      "i  =[5.85e-3,5.86e-3,6.06e-3,6.01e-03,5.97e-3,6.05e-3]"
     ],
     "language": "python",
     "metadata": {},
     "outputs": [],
     "prompt_number": 68
    },
    {
     "cell_type": "code",
     "collapsed": false,
     "input": [
      "# fit_and_plot(i,v)\n",
      "plt.plot(v,i,'o')"
     ],
     "language": "python",
     "metadata": {},
     "outputs": [
      {
       "metadata": {},
       "output_type": "pyout",
       "prompt_number": 73,
       "text": [
        "[<matplotlib.lines.Line2D at 0x108950a10>]"
       ]
      },
      {
       "metadata": {},
       "output_type": "display_data",
       "png": "[encoded data removed]",
       "text": [
        "<matplotlib.figure.Figure at 0x10889bcd0>"
       ]
      }
     ],
     "prompt_number": 73
    },
    {
     "cell_type": "code",
     "collapsed": false,
     "input": [
      "plt.plot()"
     ],
     "language": "python",
     "metadata": {},
     "outputs": []
    },
    {
     "cell_type": "code",
     "collapsed": false,
     "input": [
      "cd data/"
     ],
     "language": "python",
     "metadata": {},
     "outputs": [
      {
       "output_type": "stream",
       "stream": "stdout",
       "text": [
        "[Errno 2] No such file or directory: 'data/'\n",
        "/Users/dorislee/Desktop/Spring_2015/Phys111/111BSClab/lab3/data\n"
       ]
      }
     ],
     "prompt_number": 30
    },
    {
     "cell_type": "code",
     "collapsed": false,
     "input": [
      "data= np.loadtxt(\"Diode-N2.csv\",delimiter=\",\")\n",
      "v_n2 = data[::,0]\n",
      "i_n2 = data[::,1]"
     ],
     "language": "python",
     "metadata": {},
     "outputs": [],
     "prompt_number": 40
    },
    {
     "cell_type": "code",
     "collapsed": false,
     "input": [
      "plt.plot(v_n2,i,'-')\n",
      "plt.plot(v_n2,i,'o')"
     ],
     "language": "python",
     "metadata": {},
     "outputs": [
      {
       "metadata": {},
       "output_type": "pyout",
       "prompt_number": 41,
       "text": [
        "[<matplotlib.lines.Line2D at 0x107f43b90>]"
       ]
      },
      {
       "metadata": {},
       "output_type": "display_data",
       "png": "[encoded data removed]",
       "text": [
        "<matplotlib.figure.Figure at 0x107f43fd0>"
       ]
      }
     ],
     "prompt_number": 41
    },
    {
     "cell_type": "code",
     "collapsed": false,
     "input": [
      "import mpld3\n",
      "mpld3.enable_notebook()"
     ],
     "language": "python",
     "metadata": {},
     "outputs": [],
     "prompt_number": 44
    },
    {
     "cell_type": "code",
     "collapsed": false,
     "input": [
      "data= np.loadtxt(\"Diode-noN2.csv\",delimiter=\",\")\n",
      "v = data[::,0]\n",
      "i = data[::,1]"
     ],
     "language": "python",
     "metadata": {},
     "outputs": [],
     "prompt_number": 42
    },
    {
     "cell_type": "code",
     "collapsed": false,
     "input": [
      "#data from 3.4\n",
      "v2 = [0.368,0.376,392e-3,400e-3,404e-3]\n",
      "i2 = [0.0115,0.0111,11.06e-3,11.09e-3,11.12e-3]\n",
      "plt.plot(v2,i2,'o',color='red')\n",
      "plt.plot(v,i,'-')\n",
      "plt.plot(v,i,'o')"
     ],
     "language": "python",
     "metadata": {},
     "outputs": [
      {
       "metadata": {},
       "output_type": "pyout",
       "prompt_number": 45,
       "text": [
        "[<matplotlib.lines.Line2D at 0x108212e10>]"
       ]
      },
      {
       "html": [
        "\n",
        "\n",
        "<style>\n",
        "\n",
        "</style>\n",
        "\n",
        "<div id=\"fig_el2184144311548323156992497\"></div>\n",
        "<script>\n",
        "function mpld3_load_lib(url, callback){\n",
        "  var s = document.createElement('script');\n",
        "  s.src = url;\n",
        "  s.async = true;\n",
        "  s.onreadystatechange = s.onload = callback;\n",
        "  s.onerror = function(){console.warn(\"failed to load library \" + url);};\n",
        "  document.getElementsByTagName(\"head\")[0].appendChild(s);\n",
        "}\n",
        "\n",
        "if(typeof(mpld3) !== \"undefined\" && mpld3._mpld3IsLoaded){\n",
        "   // already loaded: just create the figure\n",
        "   !function(mpld3){\n",
        "       \n",
        "       mpld3.draw_figure(\"fig_el2184144311548323156992497\", {\"axes\": [{\"xlim\": [0.0, 1.2000000000000002], \"yscale\": \"linear\", \"axesbg\": \"#FFFFFF\", \"texts\": [], \"zoomable\": true, \"images\": [], \"xdomain\": [0.0, 1.2000000000000002], \"ylim\": [-0.050000000000000003, 0.20000000000000001], \"paths\": [], \"sharey\": [], \"sharex\": [], \"axesbgalpha\": null, \"axes\": [{\"scale\": \"linear\", \"tickformat\": null, \"grid\": {\"gridOn\": false}, \"fontsize\": 10.0, \"position\": \"bottom\", \"nticks\": 8, \"tickvalues\": null}, {\"scale\": \"linear\", \"tickformat\": null, \"grid\": {\"gridOn\": false}, \"fontsize\": 10.0, \"position\": \"left\", \"nticks\": 6, \"tickvalues\": null}], \"lines\": [{\"color\": \"#0000FF\", \"yindex\": 1, \"coordinates\": \"data\", \"dasharray\": \"10,0\", \"zorder\": 2, \"alpha\": 1, \"xindex\": 0, \"linewidth\": 1.0, \"data\": \"data02\", \"id\": \"el218414431154768\"}], \"markers\": [{\"edgecolor\": \"#000000\", \"facecolor\": \"#FF0000\", \"edgewidth\": 0.5, \"yindex\": 1, \"coordinates\": \"data\", \"zorder\": 2, \"markerpath\": [[[0.0, 3.0], [0.7956093000000001, 3.0], [1.5587396123545605, 2.683901074764725], [2.121320343559643, 2.121320343559643], [2.683901074764725, 1.5587396123545605], [3.0, 0.7956093000000001], [3.0, 0.0], [3.0, -0.7956093000000001], [2.683901074764725, -1.5587396123545605], [2.121320343559643, -2.121320343559643], [1.5587396123545605, -2.683901074764725], [0.7956093000000001, -3.0], [0.0, -3.0], [-0.7956093000000001, -3.0], [-1.5587396123545605, -2.683901074764725], [-2.121320343559643, -2.121320343559643], [-2.683901074764725, -1.5587396123545605], [-3.0, -0.7956093000000001], [-3.0, 0.0], [-3.0, 0.7956093000000001], [-2.683901074764725, 1.5587396123545605], [-2.121320343559643, 2.121320343559643], [-1.5587396123545605, 2.683901074764725], [-0.7956093000000001, 3.0], [0.0, 3.0]], [\"M\", \"C\", \"C\", \"C\", \"C\", \"C\", \"C\", \"C\", \"C\", \"Z\"]], \"alpha\": 1, \"xindex\": 0, \"data\": \"data01\", \"id\": \"el218414431357648pts\"}, {\"edgecolor\": \"#000000\", \"facecolor\": \"#007F00\", \"edgewidth\": 0.5, \"yindex\": 1, \"coordinates\": \"data\", \"zorder\": 2, \"markerpath\": [[[0.0, 3.0], [0.7956093000000001, 3.0], [1.5587396123545605, 2.683901074764725], [2.121320343559643, 2.121320343559643], [2.683901074764725, 1.5587396123545605], [3.0, 0.7956093000000001], [3.0, 0.0], [3.0, -0.7956093000000001], [2.683901074764725, -1.5587396123545605], [2.121320343559643, -2.121320343559643], [1.5587396123545605, -2.683901074764725], [0.7956093000000001, -3.0], [0.0, -3.0], [-0.7956093000000001, -3.0], [-1.5587396123545605, -2.683901074764725], [-2.121320343559643, -2.121320343559643], [-2.683901074764725, -1.5587396123545605], [-3.0, -0.7956093000000001], [-3.0, 0.0], [-3.0, 0.7956093000000001], [-2.683901074764725, 1.5587396123545605], [-2.121320343559643, 2.121320343559643], [-1.5587396123545605, 2.683901074764725], [-0.7956093000000001, 3.0], [0.0, 3.0]], [\"M\", \"C\", \"C\", \"C\", \"C\", \"C\", \"C\", \"C\", \"C\", \"Z\"]], \"alpha\": 1, \"xindex\": 0, \"data\": \"data02\", \"id\": \"el218414431359504pts\"}], \"id\": \"el218414431189072\", \"ydomain\": [-0.050000000000000003, 0.20000000000000001], \"collections\": [], \"xscale\": \"linear\", \"bbox\": [0.125, 0.125, 0.77500000000000002, 0.77500000000000002]}], \"height\": 320.0, \"width\": 480.0, \"plugins\": [{\"type\": \"reset\"}, {\"enabled\": false, \"button\": true, \"type\": \"zoom\"}, {\"enabled\": false, \"button\": true, \"type\": \"boxzoom\"}], \"data\": {\"data02\": [[0.00019, 1.81e-08], [0.0106, -2.32e-08], [0.0198, 1.56e-08], [0.0294, -1.11e-07], [0.0377, 6.01e-08], [0.0475, -2.95e-08], [0.0564, 2.11e-07], [0.0655, 1.38e-07], [0.0746, 2.69e-08], [0.0831, 2.24e-07], [0.0938, 7.11e-08], [0.104, 2.93e-07], [0.112, 7.61e-08], [0.122, 2.33e-07], [0.131, 3.43e-07], [0.141, 2.1e-07], [0.148, 3.88e-07], [0.159, 3.02e-07], [0.167, 3.43e-07], [0.177, 5.07e-07], [0.185, 3.65e-07], [0.194, 5.6e-07], [0.204, 5.27e-07], [0.213, 5.27e-07], [0.223, 6.99e-07], [0.231, 7.1e-07], [0.241, 8.07e-07], [0.25, 9.48e-07], [0.26, 1.12e-06], [0.269, 1.12e-06], [0.279, 1.23e-06], [0.288, 1.52e-06], [0.298, 1.6e-06], [0.307, 2.02e-06], [0.317, 2.16e-06], [0.326, 2.47e-06], [0.334, 3.05e-06], [0.345, 3.43e-06], [0.354, 3.92e-06], [0.362, 4.6e-06], [0.371, 5.46e-06], [0.379, 6.37e-06], [0.389, 7.62e-06], [0.398, 8.83e-06], [0.406, 1.03e-05], [0.415, 1.23e-05], [0.425, 1.51e-05], [0.434, 1.73e-05], [0.442, 2.14e-05], [0.452, 2.56e-05], [0.458, 2.94e-05], [0.468, 3.55e-05], [0.474, 4.11e-05], [0.484, 4.81e-05], [0.489, 5.63e-05], [0.497, 6.55e-05], [0.505, 7.77e-05], [0.513, 9.13e-05], [0.52, 0.000106], [0.525, 0.000121], [0.534, 0.00014], [0.539, 0.000161], [0.547, 0.000184], [0.552, 0.000207], [0.557, 0.000233], [0.568, 0.000297], [0.573, 0.000324], [0.581, 0.000396], [0.595, 0.000507], [0.601, 0.000574], [0.609, 0.000692], [0.619, 0.000858], [0.63, 0.00106], [0.636, 0.00126], [0.648, 0.00152], [0.683, 0.00331], [0.697, 0.00445], [0.708, 0.00534], [0.716, 0.00638], [0.725, 0.00747], [0.731, 0.00857], [0.739, 0.00985], [0.747, 0.0113], [0.757, 0.013], [0.766, 0.0149], [0.772, 0.0167], [0.778, 0.0188], [0.787, 0.021], [0.795, 0.0236], [0.8, 0.0262], [0.809, 0.0292], [0.818, 0.0325], [0.824, 0.0359], [0.834, 0.0396], [0.839, 0.0433], [0.849, 0.0475], [0.854, 0.0519], [0.861, 0.0564], [0.871, 0.0612], [0.876, 0.0661], [0.886, 0.0714], [0.902, 0.0841], [0.909, 0.0892], [0.913, 0.0945], [0.922, 0.1], [0.938, 0.115], [0.945, 0.121], [0.948, 0.127], [0.966, 0.143], [0.971, 0.148], [0.979, 0.155], [0.995, 0.172], [0.998, 0.178], [1.01, 0.185]], \"data01\": [[0.368, 0.0115], [0.376, 0.0111], [0.392, 0.01106], [0.4, 0.01109], [0.404, 0.01112]]}, \"id\": \"el218414431154832\"});\n",
        "   }(mpld3);\n",
        "}else if(typeof define === \"function\" && define.amd){\n",
        "   // require.js is available: use it to load d3/mpld3\n",
        "   require.config({paths: {d3: \"https://mpld3.github.io/js/d3.v3.min\"}});\n",
        "   require([\"d3\"], function(d3){\n",
        "      window.d3 = d3;\n",
        "      mpld3_load_lib(\"https://mpld3.github.io/js/mpld3.v0.2.js\", function(){\n",
        "         \n",
        "         mpld3.draw_figure(\"fig_el2184144311548323156992497\", {\"axes\": [{\"xlim\": [0.0, 1.2000000000000002], \"yscale\": \"linear\", \"axesbg\": \"#FFFFFF\", \"texts\": [], \"zoomable\": true, \"images\": [], \"xdomain\": [0.0, 1.2000000000000002], \"ylim\": [-0.050000000000000003, 0.20000000000000001], \"paths\": [], \"sharey\": [], \"sharex\": [], \"axesbgalpha\": null, \"axes\": [{\"scale\": \"linear\", \"tickformat\": null, \"grid\": {\"gridOn\": false}, \"fontsize\": 10.0, \"position\": \"bottom\", \"nticks\": 8, \"tickvalues\": null}, {\"scale\": \"linear\", \"tickformat\": null, \"grid\": {\"gridOn\": false}, \"fontsize\": 10.0, \"position\": \"left\", \"nticks\": 6, \"tickvalues\": null}], \"lines\": [{\"color\": \"#0000FF\", \"yindex\": 1, \"coordinates\": \"data\", \"dasharray\": \"10,0\", \"zorder\": 2, \"alpha\": 1, \"xindex\": 0, \"linewidth\": 1.0, \"data\": \"data02\", \"id\": \"el218414431154768\"}], \"markers\": [{\"edgecolor\": \"#000000\", \"facecolor\": \"#FF0000\", \"edgewidth\": 0.5, \"yindex\": 1, \"coordinates\": \"data\", \"zorder\": 2, \"markerpath\": [[[0.0, 3.0], [0.7956093000000001, 3.0], [1.5587396123545605, 2.683901074764725], [2.121320343559643, 2.121320343559643], [2.683901074764725, 1.5587396123545605], [3.0, 0.7956093000000001], [3.0, 0.0], [3.0, -0.7956093000000001], [2.683901074764725, -1.5587396123545605], [2.121320343559643, -2.121320343559643], [1.5587396123545605, -2.683901074764725], [0.7956093000000001, -3.0], [0.0, -3.0], [-0.7956093000000001, -3.0], [-1.5587396123545605, -2.683901074764725], [-2.121320343559643, -2.121320343559643], [-2.683901074764725, -1.5587396123545605], [-3.0, -0.7956093000000001], [-3.0, 0.0], [-3.0, 0.7956093000000001], [-2.683901074764725, 1.5587396123545605], [-2.121320343559643, 2.121320343559643], [-1.5587396123545605, 2.683901074764725], [-0.7956093000000001, 3.0], [0.0, 3.0]], [\"M\", \"C\", \"C\", \"C\", \"C\", \"C\", \"C\", \"C\", \"C\", \"Z\"]], \"alpha\": 1, \"xindex\": 0, \"data\": \"data01\", \"id\": \"el218414431357648pts\"}, {\"edgecolor\": \"#000000\", \"facecolor\": \"#007F00\", \"edgewidth\": 0.5, \"yindex\": 1, \"coordinates\": \"data\", \"zorder\": 2, \"markerpath\": [[[0.0, 3.0], [0.7956093000000001, 3.0], [1.5587396123545605, 2.683901074764725], [2.121320343559643, 2.121320343559643], [2.683901074764725, 1.5587396123545605], [3.0, 0.7956093000000001], [3.0, 0.0], [3.0, -0.7956093000000001], [2.683901074764725, -1.5587396123545605], [2.121320343559643, -2.121320343559643], [1.5587396123545605, -2.683901074764725], [0.7956093000000001, -3.0], [0.0, -3.0], [-0.7956093000000001, -3.0], [-1.5587396123545605, -2.683901074764725], [-2.121320343559643, -2.121320343559643], [-2.683901074764725, -1.5587396123545605], [-3.0, -0.7956093000000001], [-3.0, 0.0], [-3.0, 0.7956093000000001], [-2.683901074764725, 1.5587396123545605], [-2.121320343559643, 2.121320343559643], [-1.5587396123545605, 2.683901074764725], [-0.7956093000000001, 3.0], [0.0, 3.0]], [\"M\", \"C\", \"C\", \"C\", \"C\", \"C\", \"C\", \"C\", \"C\", \"Z\"]], \"alpha\": 1, \"xindex\": 0, \"data\": \"data02\", \"id\": \"el218414431359504pts\"}], \"id\": \"el218414431189072\", \"ydomain\": [-0.050000000000000003, 0.20000000000000001], \"collections\": [], \"xscale\": \"linear\", \"bbox\": [0.125, 0.125, 0.77500000000000002, 0.77500000000000002]}], \"height\": 320.0, \"width\": 480.0, \"plugins\": [{\"type\": \"reset\"}, {\"enabled\": false, \"button\": true, \"type\": \"zoom\"}, {\"enabled\": false, \"button\": true, \"type\": \"boxzoom\"}], \"data\": {\"data02\": [[0.00019, 1.81e-08], [0.0106, -2.32e-08], [0.0198, 1.56e-08], [0.0294, -1.11e-07], [0.0377, 6.01e-08], [0.0475, -2.95e-08], [0.0564, 2.11e-07], [0.0655, 1.38e-07], [0.0746, 2.69e-08], [0.0831, 2.24e-07], [0.0938, 7.11e-08], [0.104, 2.93e-07], [0.112, 7.61e-08], [0.122, 2.33e-07], [0.131, 3.43e-07], [0.141, 2.1e-07], [0.148, 3.88e-07], [0.159, 3.02e-07], [0.167, 3.43e-07], [0.177, 5.07e-07], [0.185, 3.65e-07], [0.194, 5.6e-07], [0.204, 5.27e-07], [0.213, 5.27e-07], [0.223, 6.99e-07], [0.231, 7.1e-07], [0.241, 8.07e-07], [0.25, 9.48e-07], [0.26, 1.12e-06], [0.269, 1.12e-06], [0.279, 1.23e-06], [0.288, 1.52e-06], [0.298, 1.6e-06], [0.307, 2.02e-06], [0.317, 2.16e-06], [0.326, 2.47e-06], [0.334, 3.05e-06], [0.345, 3.43e-06], [0.354, 3.92e-06], [0.362, 4.6e-06], [0.371, 5.46e-06], [0.379, 6.37e-06], [0.389, 7.62e-06], [0.398, 8.83e-06], [0.406, 1.03e-05], [0.415, 1.23e-05], [0.425, 1.51e-05], [0.434, 1.73e-05], [0.442, 2.14e-05], [0.452, 2.56e-05], [0.458, 2.94e-05], [0.468, 3.55e-05], [0.474, 4.11e-05], [0.484, 4.81e-05], [0.489, 5.63e-05], [0.497, 6.55e-05], [0.505, 7.77e-05], [0.513, 9.13e-05], [0.52, 0.000106], [0.525, 0.000121], [0.534, 0.00014], [0.539, 0.000161], [0.547, 0.000184], [0.552, 0.000207], [0.557, 0.000233], [0.568, 0.000297], [0.573, 0.000324], [0.581, 0.000396], [0.595, 0.000507], [0.601, 0.000574], [0.609, 0.000692], [0.619, 0.000858], [0.63, 0.00106], [0.636, 0.00126], [0.648, 0.00152], [0.683, 0.00331], [0.697, 0.00445], [0.708, 0.00534], [0.716, 0.00638], [0.725, 0.00747], [0.731, 0.00857], [0.739, 0.00985], [0.747, 0.0113], [0.757, 0.013], [0.766, 0.0149], [0.772, 0.0167], [0.778, 0.0188], [0.787, 0.021], [0.795, 0.0236], [0.8, 0.0262], [0.809, 0.0292], [0.818, 0.0325], [0.824, 0.0359], [0.834, 0.0396], [0.839, 0.0433], [0.849, 0.0475], [0.854, 0.0519], [0.861, 0.0564], [0.871, 0.0612], [0.876, 0.0661], [0.886, 0.0714], [0.902, 0.0841], [0.909, 0.0892], [0.913, 0.0945], [0.922, 0.1], [0.938, 0.115], [0.945, 0.121], [0.948, 0.127], [0.966, 0.143], [0.971, 0.148], [0.979, 0.155], [0.995, 0.172], [0.998, 0.178], [1.01, 0.185]], \"data01\": [[0.368, 0.0115], [0.376, 0.0111], [0.392, 0.01106], [0.4, 0.01109], [0.404, 0.01112]]}, \"id\": \"el218414431154832\"});\n",
        "      });\n",
        "    });\n",
        "}else{\n",
        "    // require.js not available: dynamically load d3 & mpld3\n",
        "    mpld3_load_lib(\"https://mpld3.github.io/js/d3.v3.min.js\", function(){\n",
        "         mpld3_load_lib(\"https://mpld3.github.io/js/mpld3.v0.2.js\", function(){\n",
        "                 \n",
        "                 mpld3.draw_figure(\"fig_el2184144311548323156992497\", {\"axes\": [{\"xlim\": [0.0, 1.2000000000000002], \"yscale\": \"linear\", \"axesbg\": \"#FFFFFF\", \"texts\": [], \"zoomable\": true, \"images\": [], \"xdomain\": [0.0, 1.2000000000000002], \"ylim\": [-0.050000000000000003, 0.20000000000000001], \"paths\": [], \"sharey\": [], \"sharex\": [], \"axesbgalpha\": null, \"axes\": [{\"scale\": \"linear\", \"tickformat\": null, \"grid\": {\"gridOn\": false}, \"fontsize\": 10.0, \"position\": \"bottom\", \"nticks\": 8, \"tickvalues\": null}, {\"scale\": \"linear\", \"tickformat\": null, \"grid\": {\"gridOn\": false}, \"fontsize\": 10.0, \"position\": \"left\", \"nticks\": 6, \"tickvalues\": null}], \"lines\": [{\"color\": \"#0000FF\", \"yindex\": 1, \"coordinates\": \"data\", \"dasharray\": \"10,0\", \"zorder\": 2, \"alpha\": 1, \"xindex\": 0, \"linewidth\": 1.0, \"data\": \"data02\", \"id\": \"el218414431154768\"}], \"markers\": [{\"edgecolor\": \"#000000\", \"facecolor\": \"#FF0000\", \"edgewidth\": 0.5, \"yindex\": 1, \"coordinates\": \"data\", \"zorder\": 2, \"markerpath\": [[[0.0, 3.0], [0.7956093000000001, 3.0], [1.5587396123545605, 2.683901074764725], [2.121320343559643, 2.121320343559643], [2.683901074764725, 1.5587396123545605], [3.0, 0.7956093000000001], [3.0, 0.0], [3.0, -0.7956093000000001], [2.683901074764725, -1.5587396123545605], [2.121320343559643, -2.121320343559643], [1.5587396123545605, -2.683901074764725], [0.7956093000000001, -3.0], [0.0, -3.0], [-0.7956093000000001, -3.0], [-1.5587396123545605, -2.683901074764725], [-2.121320343559643, -2.121320343559643], [-2.683901074764725, -1.5587396123545605], [-3.0, -0.7956093000000001], [-3.0, 0.0], [-3.0, 0.7956093000000001], [-2.683901074764725, 1.5587396123545605], [-2.121320343559643, 2.121320343559643], [-1.5587396123545605, 2.683901074764725], [-0.7956093000000001, 3.0], [0.0, 3.0]], [\"M\", \"C\", \"C\", \"C\", \"C\", \"C\", \"C\", \"C\", \"C\", \"Z\"]], \"alpha\": 1, \"xindex\": 0, \"data\": \"data01\", \"id\": \"el218414431357648pts\"}, {\"edgecolor\": \"#000000\", \"facecolor\": \"#007F00\", \"edgewidth\": 0.5, \"yindex\": 1, \"coordinates\": \"data\", \"zorder\": 2, \"markerpath\": [[[0.0, 3.0], [0.7956093000000001, 3.0], [1.5587396123545605, 2.683901074764725], [2.121320343559643, 2.121320343559643], [2.683901074764725, 1.5587396123545605], [3.0, 0.7956093000000001], [3.0, 0.0], [3.0, -0.7956093000000001], [2.683901074764725, -1.5587396123545605], [2.121320343559643, -2.121320343559643], [1.5587396123545605, -2.683901074764725], [0.7956093000000001, -3.0], [0.0, -3.0], [-0.7956093000000001, -3.0], [-1.5587396123545605, -2.683901074764725], [-2.121320343559643, -2.121320343559643], [-2.683901074764725, -1.5587396123545605], [-3.0, -0.7956093000000001], [-3.0, 0.0], [-3.0, 0.7956093000000001], [-2.683901074764725, 1.5587396123545605], [-2.121320343559643, 2.121320343559643], [-1.5587396123545605, 2.683901074764725], [-0.7956093000000001, 3.0], [0.0, 3.0]], [\"M\", \"C\", \"C\", \"C\", \"C\", \"C\", \"C\", \"C\", \"C\", \"Z\"]], \"alpha\": 1, \"xindex\": 0, \"data\": \"data02\", \"id\": \"el218414431359504pts\"}], \"id\": \"el218414431189072\", \"ydomain\": [-0.050000000000000003, 0.20000000000000001], \"collections\": [], \"xscale\": \"linear\", \"bbox\": [0.125, 0.125, 0.77500000000000002, 0.77500000000000002]}], \"height\": 320.0, \"width\": 480.0, \"plugins\": [{\"type\": \"reset\"}, {\"enabled\": false, \"button\": true, \"type\": \"zoom\"}, {\"enabled\": false, \"button\": true, \"type\": \"boxzoom\"}], \"data\": {\"data02\": [[0.00019, 1.81e-08], [0.0106, -2.32e-08], [0.0198, 1.56e-08], [0.0294, -1.11e-07], [0.0377, 6.01e-08], [0.0475, -2.95e-08], [0.0564, 2.11e-07], [0.0655, 1.38e-07], [0.0746, 2.69e-08], [0.0831, 2.24e-07], [0.0938, 7.11e-08], [0.104, 2.93e-07], [0.112, 7.61e-08], [0.122, 2.33e-07], [0.131, 3.43e-07], [0.141, 2.1e-07], [0.148, 3.88e-07], [0.159, 3.02e-07], [0.167, 3.43e-07], [0.177, 5.07e-07], [0.185, 3.65e-07], [0.194, 5.6e-07], [0.204, 5.27e-07], [0.213, 5.27e-07], [0.223, 6.99e-07], [0.231, 7.1e-07], [0.241, 8.07e-07], [0.25, 9.48e-07], [0.26, 1.12e-06], [0.269, 1.12e-06], [0.279, 1.23e-06], [0.288, 1.52e-06], [0.298, 1.6e-06], [0.307, 2.02e-06], [0.317, 2.16e-06], [0.326, 2.47e-06], [0.334, 3.05e-06], [0.345, 3.43e-06], [0.354, 3.92e-06], [0.362, 4.6e-06], [0.371, 5.46e-06], [0.379, 6.37e-06], [0.389, 7.62e-06], [0.398, 8.83e-06], [0.406, 1.03e-05], [0.415, 1.23e-05], [0.425, 1.51e-05], [0.434, 1.73e-05], [0.442, 2.14e-05], [0.452, 2.56e-05], [0.458, 2.94e-05], [0.468, 3.55e-05], [0.474, 4.11e-05], [0.484, 4.81e-05], [0.489, 5.63e-05], [0.497, 6.55e-05], [0.505, 7.77e-05], [0.513, 9.13e-05], [0.52, 0.000106], [0.525, 0.000121], [0.534, 0.00014], [0.539, 0.000161], [0.547, 0.000184], [0.552, 0.000207], [0.557, 0.000233], [0.568, 0.000297], [0.573, 0.000324], [0.581, 0.000396], [0.595, 0.000507], [0.601, 0.000574], [0.609, 0.000692], [0.619, 0.000858], [0.63, 0.00106], [0.636, 0.00126], [0.648, 0.00152], [0.683, 0.00331], [0.697, 0.00445], [0.708, 0.00534], [0.716, 0.00638], [0.725, 0.00747], [0.731, 0.00857], [0.739, 0.00985], [0.747, 0.0113], [0.757, 0.013], [0.766, 0.0149], [0.772, 0.0167], [0.778, 0.0188], [0.787, 0.021], [0.795, 0.0236], [0.8, 0.0262], [0.809, 0.0292], [0.818, 0.0325], [0.824, 0.0359], [0.834, 0.0396], [0.839, 0.0433], [0.849, 0.0475], [0.854, 0.0519], [0.861, 0.0564], [0.871, 0.0612], [0.876, 0.0661], [0.886, 0.0714], [0.902, 0.0841], [0.909, 0.0892], [0.913, 0.0945], [0.922, 0.1], [0.938, 0.115], [0.945, 0.121], [0.948, 0.127], [0.966, 0.143], [0.971, 0.148], [0.979, 0.155], [0.995, 0.172], [0.998, 0.178], [1.01, 0.185]], \"data01\": [[0.368, 0.0115], [0.376, 0.0111], [0.392, 0.01106], [0.4, 0.01109], [0.404, 0.01112]]}, \"id\": \"el218414431154832\"});\n",
        "            })\n",
        "         });\n",
        "}\n",
        "</script>"
       ],
       "metadata": {},
       "output_type": "display_data",
       "png": "[encoded data removed]",
       "text": [
        "<matplotlib.figure.Figure at 0x1081e0e90>"
       ]
      }
     ],
     "prompt_number": 45
    },
    {
     "cell_type": "code",
     "collapsed": false,
     "input": [],
     "language": "python",
     "metadata": {},
     "outputs": []
    }
   ],
   "metadata": {}
  }
 ]
}