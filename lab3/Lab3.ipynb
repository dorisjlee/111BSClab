{
 "metadata": {
  "name": "",
  "signature": "sha256:12815563c5eb2c1ed0b173420741e57d90f8451cb73bbd838be75ba7abb6063b"
 },
 "nbformat": 3,
 "nbformat_minor": 0,
 "worksheets": [
  {
   "cells": [
    {
     "cell_type": "code",
     "collapsed": false,
     "input": [
      "%pylab inline"
     ],
     "language": "python",
     "metadata": {},
     "outputs": [
      {
       "output_type": "stream",
       "stream": "stdout",
       "text": [
        "Populating the interactive namespace from numpy and matplotlib\n"
       ]
      }
     ],
     "prompt_number": 27
    },
    {
     "cell_type": "code",
     "collapsed": false,
     "input": [
      "def compute_uncertainty(value,basic_range):\n",
      "    return 0.012/100.*value+0.004/100.*basic_range"
     ],
     "language": "python",
     "metadata": {},
     "outputs": [],
     "prompt_number": 28
    },
    {
     "cell_type": "code",
     "collapsed": false,
     "input": [
      "compute_uncertainty(4.419e-3,100e3)"
     ],
     "language": "python",
     "metadata": {},
     "outputs": [
      {
       "metadata": {},
       "output_type": "pyout",
       "prompt_number": 50,
       "text": [
        "4.00000053028"
       ]
      }
     ],
     "prompt_number": 50
    },
    {
     "cell_type": "code",
     "collapsed": false,
     "input": [
      "compute_uncertainty(4.419e-3,100e-3)"
     ],
     "language": "python",
     "metadata": {},
     "outputs": [
      {
       "metadata": {},
       "output_type": "pyout",
       "prompt_number": 48,
       "text": [
        "4.530280000000001e-06"
       ]
      }
     ],
     "prompt_number": 48
    },
    {
     "cell_type": "code",
     "collapsed": false,
     "input": [
      "compute_uncertainty(2.560e-3,100e-3)"
     ],
     "language": "python",
     "metadata": {},
     "outputs": [
      {
       "metadata": {},
       "output_type": "pyout",
       "prompt_number": 49,
       "text": [
        "4.307200000000001e-06"
       ]
      }
     ],
     "prompt_number": 49
    },
    {
     "cell_type": "code",
     "collapsed": false,
     "input": [
      "def fit_and_plot(x,y,xlabel=\"\",ylabel=\"\",title=\"\",zeroed=False,annotate_fit= True,right_words = False,error_bar=\"\",sci_lim = False,annotate=\"\",right_annotate=False):\n",
      "#     x=1./x**2\n",
      "#     y=1./y\n",
      "#     fig = plt.figure()\n",
      "    fig = plt.figure()\n",
      "    ax1 = fig.add_subplot(111)\n",
      "    ax1.plot(x,y,'o')\n",
      "    z = np.polyfit(x,y, 1) \n",
      "    print z\n",
      "    p = np.poly1d(z)\n",
      "    print p\n",
      "    if zeroed : \n",
      "        a = np.linspace(0,max(x))\n",
      "    else:\n",
      "        a = np.linspace(min(x),max(x))\n",
      "    ax1.plot(a, p(np.linspace(min(x),max(x))),color=\"red\")\n",
      "    if annotate_fit: \n",
      "        slope = z[0]\n",
      "        intercept = z[1]\n",
      "        if right_words:    \n",
      "            ax1.text(0.48,0.85,\"y= %.5f x + %.5f\"%(slope,intercept), fontsize=13,transform=ax1.transAxes)\n",
      "        else:\n",
      "            ax1.text(0.03,0.85,\"y= %.5f x + %.5f\"%(slope,intercept), fontsize=13,transform=ax1.transAxes)\n",
      "    if title !=\"\":\n",
      "        plt.title(title,fontsize=13 )    \n",
      "        plt.xlabel(xlabel,fontsize=12)\n",
      "        plt.ylabel(ylabel,fontsize=12)\n",
      "#     ax1 = fig.add_subplot(111)\n",
      "#     ax1.text(0.03,0.8,\"y= %.5f x %.5f\"%(p[0],p[1]), fontsize=13,transform=ax.transAxes)\n",
      "    if annotate!=\"\":\n",
      "        if right_annotate: \n",
      "            ax1.text(0.48,0.85,annotate, fontsize=13,transform=ax1.transAxes)\n",
      "    if error_bar!=\"\":\n",
      "        ax1.errorbar(x, y, yerr=error_bar, fmt='o')\n",
      "    if sci_lim:\n",
      "        plt.ticklabel_format(style='sci', axis='x', scilimits=(0,0))\n",
      "    plt.tick_params(axis='both', which='major', labelsize=12)\n",
      "    plt.tick_params(axis='both', which='minor', labelsize=12)\n",
      "    return p"
     ],
     "language": "python",
     "metadata": {},
     "outputs": [],
     "prompt_number": 255
    },
    {
     "cell_type": "heading",
     "level": 1,
     "metadata": {},
     "source": [
      "3.3"
     ]
    },
    {
     "cell_type": "code",
     "collapsed": false,
     "input": [
      "r = np.array([34.69e6,29.48e6,17.05e6,22.25e6,27.47e6,40.10e6])\n",
      "v =np.array([5.761,5.620,5.030,5.58,5.61,5.80])\n",
      "i = np.array([5.85,5.86,6.06,6.01,5.97,6.05])*10**(-3)\n",
      "i2 = v/r\n",
      "# plt.plot(v,i2,'o')\n",
      "fit_and_plot(v,i2,annotate_fit=\"\",title=\"Offset Adder Voltage Adder\", xlabel=\"Votlage[V]\", ylabel=\"Current[I]\")#,annotate=\"$y=-1.822\\times10^{-7}x + 1.223\\times 10^{-6}$\",right_annotate=True)"
     ],
     "language": "python",
     "metadata": {},
     "outputs": [
      {
       "output_type": "stream",
       "stream": "stdout",
       "text": [
        "[ -1.82151150e-07   1.22256693e-06]\n",
        " \n",
        "-1.822e-07 x + 1.223e-06\n"
       ]
      },
      {
       "metadata": {},
       "output_type": "pyout",
       "prompt_number": 260,
       "text": [
        "poly1d([ -1.82151150e-07,   1.22256693e-06])"
       ]
      },
      {
       "metadata": {},
       "output_type": "display_data",
       "png": "[encoded data removed]",
       "text": [
        "<matplotlib.figure.Figure at 0x10bff7d10>"
       ]
      }
     ],
     "prompt_number": 260
    },
    {
     "cell_type": "heading",
     "level": 1,
     "metadata": {},
     "source": [
      "3.4"
     ]
    },
    {
     "cell_type": "heading",
     "level": 5,
     "metadata": {},
     "source": [
      "Not sure what we are supposed to see here: "
     ]
    },
    {
     "cell_type": "code",
     "collapsed": false,
     "input": [
      "v = np.array([368,376,392,400,404])#*10**(-3)\n",
      "i = np.array([11.05,11.10,11.06,11.09,11.12])#*10**(-3)\n",
      "plt.plot(v,i,'o')\n",
      "plt.title(\"Characteristic curve of diode\",fontsize=12)\n",
      "plt.ylabel(\"Current[mA]\",fontsize=12)\n",
      "plt.xlabel(\"Voltage[mV]\",fontsize=12)\n",
      "plt.figure()\n",
      "plt.semilogy(v,i,'o')\n",
      "plt.title(\"Characteristic curve of diode\",fontsize=12)\n",
      "plt.ylabel(\"log(Current)[mA]\",fontsize=12)\n",
      "plt.xlabel(\"Voltage[mV]\",fontsize=12)"
     ],
     "language": "python",
     "metadata": {},
     "outputs": [
      {
       "metadata": {},
       "output_type": "pyout",
       "prompt_number": 272,
       "text": [
        "<matplotlib.text.Text at 0x10c747390>"
       ]
      },
      {
       "metadata": {},
       "output_type": "display_data",
       "png": "[encoded data removed]",
       "text": [
        "<matplotlib.figure.Figure at 0x10c4bf5d0>"
       ]
      },
      {
       "metadata": {},
       "output_type": "display_data",
       "png": "[encoded data removed]",
       "text": [
        "<matplotlib.figure.Figure at 0x10c831c50>"
       ]
      }
     ],
     "prompt_number": 272
    },
    {
     "cell_type": "heading",
     "level": 1,
     "metadata": {},
     "source": [
      "3.5"
     ]
    },
    {
     "cell_type": "code",
     "collapsed": false,
     "input": [
      "cd ../final_diode/"
     ],
     "language": "python",
     "metadata": {},
     "outputs": [
      {
       "output_type": "stream",
       "stream": "stdout",
       "text": [
        "/Users/dorislee/Desktop/Spring_2015/Phys111/111BSClab/lab3/data/final_diode\n"
       ]
      }
     ],
     "prompt_number": 336
    },
    {
     "cell_type": "heading",
     "level": 4,
     "metadata": {},
     "source": [
      "Diode at room temperature"
     ]
    },
    {
     "cell_type": "code",
     "collapsed": false,
     "input": [
      "data= np.loadtxt(\"Diode.dat\")#,delimiter=\" \")\n",
      "v_diode = data[::,0]\n",
      "i_diode = data[::,1]\n",
      "# plt.plot(v_diode,i_diode,'-')\n",
      "# plt.plot(v_diode,i_diode,'o')\n",
      "# plt.figure()\n",
      "# plt.loglog(v_diode,i_diode,'-')\n",
      "# plt.loglog(v_diode,i_diode,'o')\n",
      "# plt.figure()\n",
      "plt.semilogy(v_diode,i_diode,'-')\n",
      "#data from 3.4\n",
      "# v2 = [368e-3,376e-3,392e-3,400e-3,404e-3]\n",
      "# i2 = [11.05e-3,11.10e-3,11.06e-3,11.09e-3,11.12e-3]\n",
      "# plt.semilogy(v2,i2,'o',color='red')\n",
      "plt.title(\"Characteristic curve of room temperature diode\",fontsize=12)\n",
      "plt.ylabel(\"log(Current)[A]\",fontsize=12)\n",
      "plt.xlabel(\"Voltage[V]\",fontsize=12)"
     ],
     "language": "python",
     "metadata": {},
     "outputs": [
      {
       "metadata": {},
       "output_type": "pyout",
       "prompt_number": 338,
       "text": [
        "<matplotlib.text.Text at 0x10d443610>"
       ]
      },
      {
       "metadata": {},
       "output_type": "display_data",
       "png": "[encoded data removed]",
       "text": [
        "<matplotlib.figure.Figure at 0x10d48b790>"
       ]
      }
     ],
     "prompt_number": 338
    },
    {
     "cell_type": "code",
     "collapsed": false,
     "input": [
      "# data= np.loadtxt(\"diode.csv\",delimiter=\",\",dtype=\"string\")\n",
      "# parsed1 =[float(i) for i in data[::,0] ]\n",
      "# parsed =[]\n",
      "# for i in data[::,1]: \n",
      "#     _val =0\n",
      "#     if i[-1] ==\"n\":\n",
      "#         _val=i[:-1]+\"e-9\"\n",
      "#     elif i[-1] == \"u\":\n",
      "#         _val=i[:-1]+\"e-6\"\n",
      "#     elif i[-1] ==\"m\":\n",
      "#         _val=i[:-1]+\"e-3\"\n",
      "#     parsed.append(float(_val))\n",
      "# data[::,1] = parsed\n",
      "# parsed_data = np.array([parsed1,parsed])\n",
      "# plt.plot(parsed_data[0],parsed_data[1],'o')"
     ],
     "language": "python",
     "metadata": {},
     "outputs": [],
     "prompt_number": 141
    },
    {
     "cell_type": "code",
     "collapsed": false,
     "input": [
      "intersect1d(np.where(v_diode>0.35)[0],np.where(v_diode<0.37)[0])"
     ],
     "language": "python",
     "metadata": {},
     "outputs": [
      {
       "metadata": {},
       "output_type": "pyout",
       "prompt_number": 314,
       "text": [
        "array([38, 39])"
       ]
      }
     ],
     "prompt_number": 314
    },
    {
     "cell_type": "code",
     "collapsed": false,
     "input": [
      "v_diode[39]"
     ],
     "language": "python",
     "metadata": {},
     "outputs": [
      {
       "metadata": {},
       "output_type": "pyout",
       "prompt_number": 316,
       "text": [
        "0.36080000000000001"
       ]
      }
     ],
     "prompt_number": 316
    },
    {
     "cell_type": "heading",
     "level": 4,
     "metadata": {},
     "source": [
      "Diode in LN2"
     ]
    },
    {
     "cell_type": "code",
     "collapsed": false,
     "input": [
      "cd ../updated/"
     ],
     "language": "python",
     "metadata": {},
     "outputs": [
      {
       "output_type": "stream",
       "stream": "stdout",
       "text": [
        "/Users/dorislee/Desktop/Spring_2015/Phys111/111BSClab/lab3/data/updated\n"
       ]
      }
     ],
     "prompt_number": 275
    },
    {
     "cell_type": "code",
     "collapsed": false,
     "input": [
      "data= np.loadtxt(\"n2.dat\")\n",
      "v = data[::,0]\n",
      "i = data[::,1]\n",
      "plt.semilogy(v,i,'-')\n",
      "plt.title(\"Characteristic curve of diode in LN2\",fontsize=12)\n",
      "plt.ylabel(\"log(Current)[A]\",fontsize=12)\n",
      "plt.xlabel(\"Voltage[V]\",fontsize=12)\n",
      "plt.plot(v[115],i[115],'o')"
     ],
     "language": "python",
     "metadata": {},
     "outputs": [
      {
       "metadata": {},
       "output_type": "pyout",
       "prompt_number": 297,
       "text": [
        "[<matplotlib.lines.Line2D at 0x10d0f8e10>]"
       ]
      },
      {
       "metadata": {},
       "output_type": "display_data",
       "png": "[encoded data removed]",
       "text": [
        "<matplotlib.figure.Figure at 0x10cd4b910>"
       ]
      }
     ],
     "prompt_number": 297
    },
    {
     "cell_type": "code",
     "collapsed": false,
     "input": [
      "print v[115]\n",
      "print i[115]"
     ],
     "language": "python",
     "metadata": {},
     "outputs": [
      {
       "output_type": "stream",
       "stream": "stdout",
       "text": [
        "1.035\n",
        "0.0001186\n"
       ]
      }
     ],
     "prompt_number": 296
    },
    {
     "cell_type": "code",
     "collapsed": false,
     "input": [
      "intersect1d(np.where(v>1.0)[0],np.where(v<1.1)[0])"
     ],
     "language": "python",
     "metadata": {},
     "outputs": [
      {
       "metadata": {},
       "output_type": "pyout",
       "prompt_number": 295,
       "text": [
        "array([109, 110, 111, 112, 113, 114, 115, 116, 117, 118, 119, 120, 121, 122])"
       ]
      }
     ],
     "prompt_number": 295
    },
    {
     "cell_type": "code",
     "collapsed": false,
     "input": [
      "print v[3]\n",
      "print i[3]"
     ],
     "language": "python",
     "metadata": {},
     "outputs": [
      {
       "output_type": "stream",
       "stream": "stdout",
       "text": [
        "0.02974\n",
        "1.227e-07\n"
       ]
      }
     ],
     "prompt_number": 301
    },
    {
     "cell_type": "code",
     "collapsed": false,
     "input": [
      "e =1.6e-19\n",
      "k=1.38e-23\n",
      "R =9.8969e3\n",
      "i_sat = 5.22e-8\n",
      "T=170\n",
      "n = e*v/(k*T)/log(i/i_sat+1)"
     ],
     "language": "python",
     "metadata": {},
     "outputs": [],
     "prompt_number": 307
    },
    {
     "cell_type": "code",
     "collapsed": false,
     "input": [
      "n"
     ],
     "language": "python",
     "metadata": {},
     "outputs": [
      {
       "metadata": {},
       "output_type": "pyout",
       "prompt_number": 306,
       "text": [
        "array([-0.35101776, -0.28326106, -2.21702334,  1.74858317,  2.00359705,\n",
        "        3.50488153,  9.18655121,  3.18076244,  7.13633317,  2.89663663,\n",
        "        3.03712406,  3.24709763,  3.38581061,  5.25587941,  4.18330448,\n",
        "        3.70254934,  6.89596562,  5.55400613,  4.44031437,  4.55070978,\n",
        "        4.59553698,  5.1334898 ,  5.50675784,  5.26378535,  5.50091375,\n",
        "        5.27508522,  5.24378387,  5.5198038 ,  5.88270756,  5.50143399,\n",
        "        5.59504465,  5.60976033,  5.6342661 ,  5.6008326 ,  5.66362629,\n",
        "        5.46859439,  5.4885408 ,  5.46238514,  5.42323641,  5.31985695,\n",
        "        5.34264109,  5.28625404,  5.25123497,  5.18292945,  5.12402801,\n",
        "        5.08253706,  5.00788638,  5.00092386,  4.95128228,  4.89994176,\n",
        "        4.8918355 ,  4.79522917,  4.76929057,  4.73676149,  4.71458811,\n",
        "        4.67764959,  4.6359161 ,  4.6368999 ,  4.61235248,  4.57445784,\n",
        "        4.54545295,  4.52775931,  4.5000958 ,  4.48445602,  4.46131553,\n",
        "        4.44796549,  4.42104624,  4.40638486,  4.36393773,  4.33707733,\n",
        "        4.3234532 ,  4.2891253 ,  4.30897815,  4.27115781,  4.25735081,\n",
        "        4.17861919,  4.15693734,  4.14298688,  4.13277088,  4.12920357,\n",
        "        4.14273195,  4.12816462,  4.1311726 ,  4.11829786,  4.1274508 ,\n",
        "        4.12368552,  4.14851117,  4.14136334,  4.15514866,  4.14119386,\n",
        "        4.14503802,  4.16200742,  4.16218718,  4.17618279,  4.18527381,\n",
        "        4.19020769,  4.20132414,  4.23188751,  4.22935741,  4.27357244,\n",
        "        4.26289667,  4.28289021,  4.28426925,  4.32525438,  4.3355804 ,\n",
        "        4.36436133,  4.3800846 ,  4.39016169,  4.41720706,  4.44417725,\n",
        "        4.48159449,  4.48030105,  4.53742485,  4.53373118])"
       ]
      }
     ],
     "prompt_number": 306
    },
    {
     "cell_type": "code",
     "collapsed": false,
     "input": [
      "e =1.6e-19\n",
      "k=1.38e-23\n",
      "i_sat = 5.22e-7\n",
      "T=298\n",
      "n = e*v_diode/(k*T)/log(i_diode/i_sat+1)"
     ],
     "language": "python",
     "metadata": {},
     "outputs": [],
     "prompt_number": 339
    },
    {
     "cell_type": "code",
     "collapsed": false,
     "input": [
      "v_diode[38]\n",
      "i_diode[38]"
     ],
     "language": "python",
     "metadata": {},
     "outputs": [
      {
       "metadata": {},
       "output_type": "pyout",
       "prompt_number": 340,
       "text": [
        "3.473e-06"
       ]
      }
     ],
     "prompt_number": 340
    },
    {
     "cell_type": "code",
     "collapsed": false,
     "input": [
      "n"
     ],
     "language": "python",
     "metadata": {},
     "outputs": [
      {
       "metadata": {},
       "output_type": "pyout",
       "prompt_number": 341,
       "text": [
        "array([  0.93145171,  50.15024119,  17.15841866,   5.89401598,\n",
        "         8.61931911,   6.74367602,   9.04176605,   7.29044139,\n",
        "        10.33700924,   9.3177768 ,   9.50153312,   9.34707513,\n",
        "        10.12934283,   9.58009322,   9.42607917,   8.8805912 ,\n",
        "         9.04166978,   9.27507545,   8.71246765,   9.85772024,\n",
        "         9.89868573,   9.2952838 ,  11.21274961,  10.05158263,\n",
        "        10.35101805,   9.60697049,   9.42396977,   9.20014551,\n",
        "         9.84883268,   9.26972928,   8.99008215,   8.52875932,\n",
        "         8.34763846,   8.23588981,   7.80029604,   7.49646515,\n",
        "         7.30867188,   6.95525125,   6.72937714,   6.6032883 ,\n",
        "         6.28108103,   5.98932105,   5.76119654,   5.5627125 ,\n",
        "         5.36122239,   5.19431405,   4.99075645,   4.83764619,\n",
        "         4.69984397,   4.55450277,   4.45999103,   4.34545657,\n",
        "         4.23734715,   4.14781991,   4.06746244,   3.99795927,\n",
        "         3.92076766,   3.85450526,   3.79502654,   3.74552049,\n",
        "         3.69697113,   3.65029227,   3.56604425,   3.5426464 ,\n",
        "         3.48391812,   3.43395212,   3.39456447,   3.34685013,\n",
        "         3.3166716 ,   3.27772538,   3.24282622,   3.21341196,\n",
        "         3.17784411,   3.1549124 ,   3.05374491,   3.02161913,\n",
        "         3.00223744,   2.98378995,   2.97603194,   2.95760448,\n",
        "         2.94847526,   2.93932952,   2.9338516 ,   2.92382443,\n",
        "         2.92144903,   2.91804507,   2.91609528,   2.91618504,\n",
        "         2.91560262,   2.91715216,   2.91807895,   2.92299453,\n",
        "         2.92701266,   2.93164819,   2.93836587,   2.94754068,\n",
        "         2.954032  ,   2.96411686,   2.97462216,   2.98528306,\n",
        "         2.9963248 ,   3.01001156,   3.02212838,   3.03430084,\n",
        "         3.05108026,   3.06508369,   3.08151055,   3.10016123,\n",
        "         3.11703691,   3.13605507,   3.15207582,   3.17432281,\n",
        "         3.19396668,   3.21405418,   3.23674153,   3.25983547])"
       ]
      }
     ],
     "prompt_number": 341
    },
    {
     "cell_type": "code",
     "collapsed": false,
     "input": [],
     "language": "python",
     "metadata": {},
     "outputs": [
      {
       "metadata": {},
       "output_type": "pyout",
       "prompt_number": 325,
       "text": [
        "2.718281828459045"
       ]
      }
     ],
     "prompt_number": 325
    },
    {
     "cell_type": "code",
     "collapsed": false,
     "input": [
      "log(2.718)"
     ],
     "language": "python",
     "metadata": {},
     "outputs": [
      {
       "metadata": {},
       "output_type": "pyout",
       "prompt_number": 327,
       "text": [
        "0.99989631572895199"
       ]
      }
     ],
     "prompt_number": 327
    },
    {
     "cell_type": "code",
     "collapsed": false,
     "input": [
      "log(10)"
     ],
     "language": "python",
     "metadata": {},
     "outputs": [
      {
       "metadata": {},
       "output_type": "pyout",
       "prompt_number": 321,
       "text": [
        "2.3025850929940459"
       ]
      }
     ],
     "prompt_number": 321
    },
    {
     "cell_type": "code",
     "collapsed": false,
     "input": [
      "print v[80]\n",
      "print i[80]"
     ],
     "language": "python",
     "metadata": {},
     "outputs": [
      {
       "output_type": "stream",
       "stream": "stdout",
       "text": [
        "0.7442\n",
        "1.715e-06\n"
       ]
      }
     ],
     "prompt_number": 309
    },
    {
     "cell_type": "heading",
     "level": 1,
     "metadata": {},
     "source": [
      "3.9"
     ]
    },
    {
     "cell_type": "code",
     "collapsed": false,
     "input": [
      "cd ../final_diode/"
     ],
     "language": "python",
     "metadata": {},
     "outputs": [
      {
       "output_type": "stream",
       "stream": "stdout",
       "text": [
        "/Users/dorislee/Desktop/Spring_2015/Phys111/111BSClab/lab3/data/final_diode\n"
       ]
      }
     ],
     "prompt_number": 188
    },
    {
     "cell_type": "code",
     "collapsed": false,
     "input": [
      "data= np.loadtxt(\"Diode.dat\")#,delimiter=\" \")\n",
      "v_diode = data[::,0]\n",
      "i_diode = data[::,1]\n",
      "plt.semilogy(v_diode,i_diode,'-')"
     ],
     "language": "python",
     "metadata": {},
     "outputs": [
      {
       "metadata": {},
       "output_type": "pyout",
       "prompt_number": 189,
       "text": [
        "[<matplotlib.lines.Line2D at 0x10a795090>]"
       ]
      },
      {
       "metadata": {},
       "output_type": "display_data",
       "png": "[encoded data removed]",
       "text": [
        "<matplotlib.figure.Figure at 0x10a684110>"
       ]
      }
     ],
     "prompt_number": 189
    },
    {
     "cell_type": "code",
     "collapsed": false,
     "input": [
      "mpld3.enable_notebook()"
     ],
     "language": "python",
     "metadata": {},
     "outputs": [],
     "prompt_number": 202
    },
    {
     "cell_type": "code",
     "collapsed": false,
     "input": [
      "i_sat = 2.37e-9\n",
      "e =1.6e-19\n",
      "k=1.38e-23\n",
      "R =9.8969e3\n",
      "v_in = np.array([0.24997,0.50114,0.69983,0.9998,2.0076])\n",
      "v_out = np.array([0.23986,0.38263,0.43008,0.468350,0.52329])\n",
      "# i  = i_sat*(np.exp(e*v_in/(1.43*k*298)))\n",
      "R_2 = 0.9782e3\n",
      "v_in_2  = np.array([0.25022,0.50739,0.70510,1.00397,2.0030])\n",
      "v_out_2 = np.array([0.24656,0.44248,0.52329,0.57437,0.6338])\n",
      "# v_in = 0.250\n",
      "i =  (v_in-v_out)/R\n",
      "i_2 = (v_in_2-v_out_2)/R_2\n",
      "\n",
      "plt.plot(v_out,i)\n",
      "plt.plot(v_out_2,i_2)\n",
      "\n",
      "plt.figure()\n",
      "data= np.loadtxt(\"Diode.dat\")#,delimiter=\" \")\n",
      "v_diode = data[::,0]\n",
      "i_diode = data[::,1]\n",
      "plt.plot(v_diode,i_diode,'-')"
     ],
     "language": "python",
     "metadata": {},
     "outputs": [
      {
       "metadata": {},
       "output_type": "pyout",
       "prompt_number": 218,
       "text": [
        "[<matplotlib.lines.Line2D at 0x10b8501d0>]"
       ]
      },
      {
       "html": [
        "\n",
        "\n",
        "<style>\n",
        "\n",
        "</style>\n",
        "\n",
        "<div id=\"fig_el2184144857014565965365438\"></div>\n",
        "<script>\n",
        "function mpld3_load_lib(url, callback){\n",
        "  var s = document.createElement('script');\n",
        "  s.src = url;\n",
        "  s.async = true;\n",
        "  s.onreadystatechange = s.onload = callback;\n",
        "  s.onerror = function(){console.warn(\"failed to load library \" + url);};\n",
        "  document.getElementsByTagName(\"head\")[0].appendChild(s);\n",
        "}\n",
        "\n",
        "if(typeof(mpld3) !== \"undefined\" && mpld3._mpld3IsLoaded){\n",
        "   // already loaded: just create the figure\n",
        "   !function(mpld3){\n",
        "       \n",
        "       mpld3.draw_figure(\"fig_el2184144857014565965365438\", {\"axes\": [{\"xlim\": [0.20000000000000001, 0.65000000000000002], \"yscale\": \"linear\", \"axesbg\": \"#FFFFFF\", \"texts\": [], \"zoomable\": true, \"images\": [], \"xdomain\": [0.20000000000000001, 0.65000000000000002], \"ylim\": [0.0, 0.0014], \"paths\": [], \"sharey\": [], \"sharex\": [], \"axesbgalpha\": null, \"axes\": [{\"scale\": \"linear\", \"tickformat\": null, \"grid\": {\"gridOn\": false}, \"fontsize\": 10.0, \"position\": \"bottom\", \"nticks\": 10, \"tickvalues\": null}, {\"scale\": \"linear\", \"tickformat\": null, \"grid\": {\"gridOn\": false}, \"fontsize\": 10.0, \"position\": \"left\", \"nticks\": 8, \"tickvalues\": null}], \"lines\": [{\"color\": \"#0000FF\", \"yindex\": 1, \"coordinates\": \"data\", \"dasharray\": \"10,0\", \"zorder\": 2, \"alpha\": 1, \"xindex\": 0, \"linewidth\": 1.0, \"data\": \"data01\", \"id\": \"el218414486184080\"}, {\"color\": \"#007F00\", \"yindex\": 1, \"coordinates\": \"data\", \"dasharray\": \"10,0\", \"zorder\": 2, \"alpha\": 1, \"xindex\": 0, \"linewidth\": 1.0, \"data\": \"data02\", \"id\": \"el218414485698512\"}], \"markers\": [], \"id\": \"el218414488121168\", \"ydomain\": [0.0, 0.0014], \"collections\": [], \"xscale\": \"linear\", \"bbox\": [0.125, 0.125, 0.77500000000000002, 0.77500000000000002]}], \"height\": 320.0, \"width\": 480.0, \"plugins\": [{\"type\": \"reset\"}, {\"enabled\": false, \"button\": true, \"type\": \"zoom\"}, {\"enabled\": false, \"button\": true, \"type\": \"boxzoom\"}], \"data\": {\"data02\": [[0.24656, 3.7415661418932697e-06], [0.44248, 6.635657329789412e-05], [0.52329, 0.0001858617869556327], [0.57437, 0.0004391739930484563], [0.6338, 0.001399713759967287]], \"data01\": [[0.23986, 1.0215319948670804e-06], [0.38263, 1.1974456648041306e-05], [0.43008, 2.7256009457506892e-05], [0.46835, 5.369863290525316e-05], [0.52329, 0.00014997726560842285]]}, \"id\": \"el218414485701456\"});\n",
        "   }(mpld3);\n",
        "}else if(typeof define === \"function\" && define.amd){\n",
        "   // require.js is available: use it to load d3/mpld3\n",
        "   require.config({paths: {d3: \"https://mpld3.github.io/js/d3.v3.min\"}});\n",
        "   require([\"d3\"], function(d3){\n",
        "      window.d3 = d3;\n",
        "      mpld3_load_lib(\"https://mpld3.github.io/js/mpld3.v0.2.js\", function(){\n",
        "         \n",
        "         mpld3.draw_figure(\"fig_el2184144857014565965365438\", {\"axes\": [{\"xlim\": [0.20000000000000001, 0.65000000000000002], \"yscale\": \"linear\", \"axesbg\": \"#FFFFFF\", \"texts\": [], \"zoomable\": true, \"images\": [], \"xdomain\": [0.20000000000000001, 0.65000000000000002], \"ylim\": [0.0, 0.0014], \"paths\": [], \"sharey\": [], \"sharex\": [], \"axesbgalpha\": null, \"axes\": [{\"scale\": \"linear\", \"tickformat\": null, \"grid\": {\"gridOn\": false}, \"fontsize\": 10.0, \"position\": \"bottom\", \"nticks\": 10, \"tickvalues\": null}, {\"scale\": \"linear\", \"tickformat\": null, \"grid\": {\"gridOn\": false}, \"fontsize\": 10.0, \"position\": \"left\", \"nticks\": 8, \"tickvalues\": null}], \"lines\": [{\"color\": \"#0000FF\", \"yindex\": 1, \"coordinates\": \"data\", \"dasharray\": \"10,0\", \"zorder\": 2, \"alpha\": 1, \"xindex\": 0, \"linewidth\": 1.0, \"data\": \"data01\", \"id\": \"el218414486184080\"}, {\"color\": \"#007F00\", \"yindex\": 1, \"coordinates\": \"data\", \"dasharray\": \"10,0\", \"zorder\": 2, \"alpha\": 1, \"xindex\": 0, \"linewidth\": 1.0, \"data\": \"data02\", \"id\": \"el218414485698512\"}], \"markers\": [], \"id\": \"el218414488121168\", \"ydomain\": [0.0, 0.0014], \"collections\": [], \"xscale\": \"linear\", \"bbox\": [0.125, 0.125, 0.77500000000000002, 0.77500000000000002]}], \"height\": 320.0, \"width\": 480.0, \"plugins\": [{\"type\": \"reset\"}, {\"enabled\": false, \"button\": true, \"type\": \"zoom\"}, {\"enabled\": false, \"button\": true, \"type\": \"boxzoom\"}], \"data\": {\"data02\": [[0.24656, 3.7415661418932697e-06], [0.44248, 6.635657329789412e-05], [0.52329, 0.0001858617869556327], [0.57437, 0.0004391739930484563], [0.6338, 0.001399713759967287]], \"data01\": [[0.23986, 1.0215319948670804e-06], [0.38263, 1.1974456648041306e-05], [0.43008, 2.7256009457506892e-05], [0.46835, 5.369863290525316e-05], [0.52329, 0.00014997726560842285]]}, \"id\": \"el218414485701456\"});\n",
        "      });\n",
        "    });\n",
        "}else{\n",
        "    // require.js not available: dynamically load d3 & mpld3\n",
        "    mpld3_load_lib(\"https://mpld3.github.io/js/d3.v3.min.js\", function(){\n",
        "         mpld3_load_lib(\"https://mpld3.github.io/js/mpld3.v0.2.js\", function(){\n",
        "                 \n",
        "                 mpld3.draw_figure(\"fig_el2184144857014565965365438\", {\"axes\": [{\"xlim\": [0.20000000000000001, 0.65000000000000002], \"yscale\": \"linear\", \"axesbg\": \"#FFFFFF\", \"texts\": [], \"zoomable\": true, \"images\": [], \"xdomain\": [0.20000000000000001, 0.65000000000000002], \"ylim\": [0.0, 0.0014], \"paths\": [], \"sharey\": [], \"sharex\": [], \"axesbgalpha\": null, \"axes\": [{\"scale\": \"linear\", \"tickformat\": null, \"grid\": {\"gridOn\": false}, \"fontsize\": 10.0, \"position\": \"bottom\", \"nticks\": 10, \"tickvalues\": null}, {\"scale\": \"linear\", \"tickformat\": null, \"grid\": {\"gridOn\": false}, \"fontsize\": 10.0, \"position\": \"left\", \"nticks\": 8, \"tickvalues\": null}], \"lines\": [{\"color\": \"#0000FF\", \"yindex\": 1, \"coordinates\": \"data\", \"dasharray\": \"10,0\", \"zorder\": 2, \"alpha\": 1, \"xindex\": 0, \"linewidth\": 1.0, \"data\": \"data01\", \"id\": \"el218414486184080\"}, {\"color\": \"#007F00\", \"yindex\": 1, \"coordinates\": \"data\", \"dasharray\": \"10,0\", \"zorder\": 2, \"alpha\": 1, \"xindex\": 0, \"linewidth\": 1.0, \"data\": \"data02\", \"id\": \"el218414485698512\"}], \"markers\": [], \"id\": \"el218414488121168\", \"ydomain\": [0.0, 0.0014], \"collections\": [], \"xscale\": \"linear\", \"bbox\": [0.125, 0.125, 0.77500000000000002, 0.77500000000000002]}], \"height\": 320.0, \"width\": 480.0, \"plugins\": [{\"type\": \"reset\"}, {\"enabled\": false, \"button\": true, \"type\": \"zoom\"}, {\"enabled\": false, \"button\": true, \"type\": \"boxzoom\"}], \"data\": {\"data02\": [[0.24656, 3.7415661418932697e-06], [0.44248, 6.635657329789412e-05], [0.52329, 0.0001858617869556327], [0.57437, 0.0004391739930484563], [0.6338, 0.001399713759967287]], \"data01\": [[0.23986, 1.0215319948670804e-06], [0.38263, 1.1974456648041306e-05], [0.43008, 2.7256009457506892e-05], [0.46835, 5.369863290525316e-05], [0.52329, 0.00014997726560842285]]}, \"id\": \"el218414485701456\"});\n",
        "            })\n",
        "         });\n",
        "}\n",
        "</script>"
       ],
       "metadata": {},
       "output_type": "display_data",
       "png": "[encoded data removed]",
       "text": [
        "<matplotlib.figure.Figure at 0x10b5e5f50>"
       ]
      },
      {
       "html": [
        "\n",
        "\n",
        "<style>\n",
        "\n",
        "</style>\n",
        "\n",
        "<div id=\"fig_el2184144868528807522170142\"></div>\n",
        "<script>\n",
        "function mpld3_load_lib(url, callback){\n",
        "  var s = document.createElement('script');\n",
        "  s.src = url;\n",
        "  s.async = true;\n",
        "  s.onreadystatechange = s.onload = callback;\n",
        "  s.onerror = function(){console.warn(\"failed to load library \" + url);};\n",
        "  document.getElementsByTagName(\"head\")[0].appendChild(s);\n",
        "}\n",
        "\n",
        "if(typeof(mpld3) !== \"undefined\" && mpld3._mpld3IsLoaded){\n",
        "   // already loaded: just create the figure\n",
        "   !function(mpld3){\n",
        "       \n",
        "       mpld3.draw_figure(\"fig_el2184144868528807522170142\", {\"axes\": [{\"xlim\": [0.0, 1.2000000000000002], \"yscale\": \"linear\", \"axesbg\": \"#FFFFFF\", \"texts\": [], \"zoomable\": true, \"images\": [], \"xdomain\": [0.0, 1.2000000000000002], \"ylim\": [0.0, 0.20000000000000001], \"paths\": [], \"sharey\": [], \"sharex\": [], \"axesbgalpha\": null, \"axes\": [{\"scale\": \"linear\", \"tickformat\": null, \"grid\": {\"gridOn\": false}, \"fontsize\": 10.0, \"position\": \"bottom\", \"nticks\": 8, \"tickvalues\": null}, {\"scale\": \"linear\", \"tickformat\": null, \"grid\": {\"gridOn\": false}, \"fontsize\": 10.0, \"position\": \"left\", \"nticks\": 5, \"tickvalues\": null}], \"lines\": [{\"color\": \"#0000FF\", \"yindex\": 1, \"coordinates\": \"data\", \"dasharray\": \"10,0\", \"zorder\": 2, \"alpha\": 1, \"xindex\": 0, \"linewidth\": 1.0, \"data\": \"data01\", \"id\": \"el218414488233424\"}], \"markers\": [], \"id\": \"el218414486872528\", \"ydomain\": [0.0, 0.20000000000000001], \"collections\": [], \"xscale\": \"linear\", \"bbox\": [0.125, 0.125, 0.77500000000000002, 0.77500000000000002]}], \"height\": 320.0, \"width\": 480.0, \"plugins\": [{\"type\": \"reset\"}, {\"enabled\": false, \"button\": true, \"type\": \"zoom\"}, {\"enabled\": false, \"button\": true, \"type\": \"boxzoom\"}], \"data\": {\"data01\": [[0.0002517, 5.517e-09], [0.00881, 3.58e-09], [0.01737, 2.097e-08], [0.02791, 1.056e-07], [0.03783, 9.72e-08], [0.04624, 1.596e-07], [0.05476, 1.387e-07], [0.066, 2.204e-07], [0.07471, 1.695e-07], [0.08267, 2.152e-07], [0.09206, 2.39e-07], [0.1023, 2.771e-07], [0.1131, 2.84e-07], [0.1202, 3.285e-07], [0.13, 3.707e-07], [0.1403, 4.432e-07], [0.1482, 4.657e-07], [0.1555, 4.802e-07], [0.167, 5.784e-07], [0.1746, 5.178e-07], [0.185, 5.581e-07], [0.1951, 6.592e-07], [0.2024, 5.316e-07], [0.212, 6.639e-07], [0.2225, 6.827e-07], [0.2304, 8.051e-07], [0.24, 8.84e-07], [0.2505, 9.837e-07], [0.2601, 9.365e-07], [0.2685, 1.089e-06], [0.2766, 1.206e-06], [0.288, 1.42e-06], [0.2962, 1.554e-06], [0.3049, 1.682e-06], [0.3173, 2.019e-06], [0.3259, 2.311e-06], [0.3335, 2.559e-06], [0.3423, 3.02e-06], [0.352, 3.473e-06], [0.3616, 3.873e-06], [0.3687, 4.601e-06], [0.3803, 5.652e-06], [0.3886, 6.679e-06], [0.3973, 7.882e-06], [0.4068, 9.473e-06], [0.4153, 1.119e-05], [0.4233, 1.363e-05], [0.4332, 1.649e-05], [0.4418, 1.971e-05], [0.4516, 2.42e-05], [0.4595, 2.822e-05], [0.4667, 3.355e-05], [0.4761, 4.08e-05], [0.4838, 4.829e-05], [0.4921, 5.728e-05], [0.5003, 6.742e-05], [0.5065, 7.9e-05], [0.5153, 9.423e-05], [0.5221, 0.0001097], [0.5294, 0.0001271], [0.5365, 0.0001473], [0.5423, 0.0001685], [0.5554, 0.000223], [0.5606, 0.0002458], [0.5717, 0.0003088], [0.5805, 0.0003745], [0.5884, 0.0004426], [0.6005, 0.000561], [0.6062, 0.0006392], [0.6164, 0.0007852], [0.6251, 0.0009431], [0.6334, 0.001117], [0.6443, 0.001391], [0.6512, 0.001604], [0.676, 0.002871], [0.6908, 0.003807], [0.7008, 0.00459], [0.71, 0.005474], [0.72, 0.006391], [0.7274, 0.00747], [0.7364, 0.008665], [0.7446, 0.009955], [0.7533, 0.01138], [0.7609, 0.01303], [0.7702, 0.01487], [0.7789, 0.0169], [0.787, 0.01896], [0.7955, 0.02123], [0.8045, 0.02399], [0.8134, 0.02686], [0.8217, 0.0299], [0.8307, 0.03309], [0.8392, 0.03649], [0.8479, 0.04024], [0.857, 0.04424], [0.8665, 0.04841], [0.8752, 0.05294], [0.8848, 0.05774], [0.8942, 0.06267], [0.9036, 0.06794], [0.913, 0.0735], [0.9229, 0.07915], [0.9323, 0.08516], [0.9418, 0.09167], [0.9525, 0.09832], [0.9622, 0.1052], [0.9726, 0.1124], [0.9837, 0.12], [0.9941, 0.1278], [1.005, 0.1357], [1.015, 0.1441], [1.027, 0.1529], [1.038, 0.1618], [1.049, 0.1708], [1.061, 0.1805], [1.073, 0.1903]]}, \"id\": \"el218414486852880\"});\n",
        "   }(mpld3);\n",
        "}else if(typeof define === \"function\" && define.amd){\n",
        "   // require.js is available: use it to load d3/mpld3\n",
        "   require.config({paths: {d3: \"https://mpld3.github.io/js/d3.v3.min\"}});\n",
        "   require([\"d3\"], function(d3){\n",
        "      window.d3 = d3;\n",
        "      mpld3_load_lib(\"https://mpld3.github.io/js/mpld3.v0.2.js\", function(){\n",
        "         \n",
        "         mpld3.draw_figure(\"fig_el2184144868528807522170142\", {\"axes\": [{\"xlim\": [0.0, 1.2000000000000002], \"yscale\": \"linear\", \"axesbg\": \"#FFFFFF\", \"texts\": [], \"zoomable\": true, \"images\": [], \"xdomain\": [0.0, 1.2000000000000002], \"ylim\": [0.0, 0.20000000000000001], \"paths\": [], \"sharey\": [], \"sharex\": [], \"axesbgalpha\": null, \"axes\": [{\"scale\": \"linear\", \"tickformat\": null, \"grid\": {\"gridOn\": false}, \"fontsize\": 10.0, \"position\": \"bottom\", \"nticks\": 8, \"tickvalues\": null}, {\"scale\": \"linear\", \"tickformat\": null, \"grid\": {\"gridOn\": false}, \"fontsize\": 10.0, \"position\": \"left\", \"nticks\": 5, \"tickvalues\": null}], \"lines\": [{\"color\": \"#0000FF\", \"yindex\": 1, \"coordinates\": \"data\", \"dasharray\": \"10,0\", \"zorder\": 2, \"alpha\": 1, \"xindex\": 0, \"linewidth\": 1.0, \"data\": \"data01\", \"id\": \"el218414488233424\"}], \"markers\": [], \"id\": \"el218414486872528\", \"ydomain\": [0.0, 0.20000000000000001], \"collections\": [], \"xscale\": \"linear\", \"bbox\": [0.125, 0.125, 0.77500000000000002, 0.77500000000000002]}], \"height\": 320.0, \"width\": 480.0, \"plugins\": [{\"type\": \"reset\"}, {\"enabled\": false, \"button\": true, \"type\": \"zoom\"}, {\"enabled\": false, \"button\": true, \"type\": \"boxzoom\"}], \"data\": {\"data01\": [[0.0002517, 5.517e-09], [0.00881, 3.58e-09], [0.01737, 2.097e-08], [0.02791, 1.056e-07], [0.03783, 9.72e-08], [0.04624, 1.596e-07], [0.05476, 1.387e-07], [0.066, 2.204e-07], [0.07471, 1.695e-07], [0.08267, 2.152e-07], [0.09206, 2.39e-07], [0.1023, 2.771e-07], [0.1131, 2.84e-07], [0.1202, 3.285e-07], [0.13, 3.707e-07], [0.1403, 4.432e-07], [0.1482, 4.657e-07], [0.1555, 4.802e-07], [0.167, 5.784e-07], [0.1746, 5.178e-07], [0.185, 5.581e-07], [0.1951, 6.592e-07], [0.2024, 5.316e-07], [0.212, 6.639e-07], [0.2225, 6.827e-07], [0.2304, 8.051e-07], [0.24, 8.84e-07], [0.2505, 9.837e-07], [0.2601, 9.365e-07], [0.2685, 1.089e-06], [0.2766, 1.206e-06], [0.288, 1.42e-06], [0.2962, 1.554e-06], [0.3049, 1.682e-06], [0.3173, 2.019e-06], [0.3259, 2.311e-06], [0.3335, 2.559e-06], [0.3423, 3.02e-06], [0.352, 3.473e-06], [0.3616, 3.873e-06], [0.3687, 4.601e-06], [0.3803, 5.652e-06], [0.3886, 6.679e-06], [0.3973, 7.882e-06], [0.4068, 9.473e-06], [0.4153, 1.119e-05], [0.4233, 1.363e-05], [0.4332, 1.649e-05], [0.4418, 1.971e-05], [0.4516, 2.42e-05], [0.4595, 2.822e-05], [0.4667, 3.355e-05], [0.4761, 4.08e-05], [0.4838, 4.829e-05], [0.4921, 5.728e-05], [0.5003, 6.742e-05], [0.5065, 7.9e-05], [0.5153, 9.423e-05], [0.5221, 0.0001097], [0.5294, 0.0001271], [0.5365, 0.0001473], [0.5423, 0.0001685], [0.5554, 0.000223], [0.5606, 0.0002458], [0.5717, 0.0003088], [0.5805, 0.0003745], [0.5884, 0.0004426], [0.6005, 0.000561], [0.6062, 0.0006392], [0.6164, 0.0007852], [0.6251, 0.0009431], [0.6334, 0.001117], [0.6443, 0.001391], [0.6512, 0.001604], [0.676, 0.002871], [0.6908, 0.003807], [0.7008, 0.00459], [0.71, 0.005474], [0.72, 0.006391], [0.7274, 0.00747], [0.7364, 0.008665], [0.7446, 0.009955], [0.7533, 0.01138], [0.7609, 0.01303], [0.7702, 0.01487], [0.7789, 0.0169], [0.787, 0.01896], [0.7955, 0.02123], [0.8045, 0.02399], [0.8134, 0.02686], [0.8217, 0.0299], [0.8307, 0.03309], [0.8392, 0.03649], [0.8479, 0.04024], [0.857, 0.04424], [0.8665, 0.04841], [0.8752, 0.05294], [0.8848, 0.05774], [0.8942, 0.06267], [0.9036, 0.06794], [0.913, 0.0735], [0.9229, 0.07915], [0.9323, 0.08516], [0.9418, 0.09167], [0.9525, 0.09832], [0.9622, 0.1052], [0.9726, 0.1124], [0.9837, 0.12], [0.9941, 0.1278], [1.005, 0.1357], [1.015, 0.1441], [1.027, 0.1529], [1.038, 0.1618], [1.049, 0.1708], [1.061, 0.1805], [1.073, 0.1903]]}, \"id\": \"el218414486852880\"});\n",
        "      });\n",
        "    });\n",
        "}else{\n",
        "    // require.js not available: dynamically load d3 & mpld3\n",
        "    mpld3_load_lib(\"https://mpld3.github.io/js/d3.v3.min.js\", function(){\n",
        "         mpld3_load_lib(\"https://mpld3.github.io/js/mpld3.v0.2.js\", function(){\n",
        "                 \n",
        "                 mpld3.draw_figure(\"fig_el2184144868528807522170142\", {\"axes\": [{\"xlim\": [0.0, 1.2000000000000002], \"yscale\": \"linear\", \"axesbg\": \"#FFFFFF\", \"texts\": [], \"zoomable\": true, \"images\": [], \"xdomain\": [0.0, 1.2000000000000002], \"ylim\": [0.0, 0.20000000000000001], \"paths\": [], \"sharey\": [], \"sharex\": [], \"axesbgalpha\": null, \"axes\": [{\"scale\": \"linear\", \"tickformat\": null, \"grid\": {\"gridOn\": false}, \"fontsize\": 10.0, \"position\": \"bottom\", \"nticks\": 8, \"tickvalues\": null}, {\"scale\": \"linear\", \"tickformat\": null, \"grid\": {\"gridOn\": false}, \"fontsize\": 10.0, \"position\": \"left\", \"nticks\": 5, \"tickvalues\": null}], \"lines\": [{\"color\": \"#0000FF\", \"yindex\": 1, \"coordinates\": \"data\", \"dasharray\": \"10,0\", \"zorder\": 2, \"alpha\": 1, \"xindex\": 0, \"linewidth\": 1.0, \"data\": \"data01\", \"id\": \"el218414488233424\"}], \"markers\": [], \"id\": \"el218414486872528\", \"ydomain\": [0.0, 0.20000000000000001], \"collections\": [], \"xscale\": \"linear\", \"bbox\": [0.125, 0.125, 0.77500000000000002, 0.77500000000000002]}], \"height\": 320.0, \"width\": 480.0, \"plugins\": [{\"type\": \"reset\"}, {\"enabled\": false, \"button\": true, \"type\": \"zoom\"}, {\"enabled\": false, \"button\": true, \"type\": \"boxzoom\"}], \"data\": {\"data01\": [[0.0002517, 5.517e-09], [0.00881, 3.58e-09], [0.01737, 2.097e-08], [0.02791, 1.056e-07], [0.03783, 9.72e-08], [0.04624, 1.596e-07], [0.05476, 1.387e-07], [0.066, 2.204e-07], [0.07471, 1.695e-07], [0.08267, 2.152e-07], [0.09206, 2.39e-07], [0.1023, 2.771e-07], [0.1131, 2.84e-07], [0.1202, 3.285e-07], [0.13, 3.707e-07], [0.1403, 4.432e-07], [0.1482, 4.657e-07], [0.1555, 4.802e-07], [0.167, 5.784e-07], [0.1746, 5.178e-07], [0.185, 5.581e-07], [0.1951, 6.592e-07], [0.2024, 5.316e-07], [0.212, 6.639e-07], [0.2225, 6.827e-07], [0.2304, 8.051e-07], [0.24, 8.84e-07], [0.2505, 9.837e-07], [0.2601, 9.365e-07], [0.2685, 1.089e-06], [0.2766, 1.206e-06], [0.288, 1.42e-06], [0.2962, 1.554e-06], [0.3049, 1.682e-06], [0.3173, 2.019e-06], [0.3259, 2.311e-06], [0.3335, 2.559e-06], [0.3423, 3.02e-06], [0.352, 3.473e-06], [0.3616, 3.873e-06], [0.3687, 4.601e-06], [0.3803, 5.652e-06], [0.3886, 6.679e-06], [0.3973, 7.882e-06], [0.4068, 9.473e-06], [0.4153, 1.119e-05], [0.4233, 1.363e-05], [0.4332, 1.649e-05], [0.4418, 1.971e-05], [0.4516, 2.42e-05], [0.4595, 2.822e-05], [0.4667, 3.355e-05], [0.4761, 4.08e-05], [0.4838, 4.829e-05], [0.4921, 5.728e-05], [0.5003, 6.742e-05], [0.5065, 7.9e-05], [0.5153, 9.423e-05], [0.5221, 0.0001097], [0.5294, 0.0001271], [0.5365, 0.0001473], [0.5423, 0.0001685], [0.5554, 0.000223], [0.5606, 0.0002458], [0.5717, 0.0003088], [0.5805, 0.0003745], [0.5884, 0.0004426], [0.6005, 0.000561], [0.6062, 0.0006392], [0.6164, 0.0007852], [0.6251, 0.0009431], [0.6334, 0.001117], [0.6443, 0.001391], [0.6512, 0.001604], [0.676, 0.002871], [0.6908, 0.003807], [0.7008, 0.00459], [0.71, 0.005474], [0.72, 0.006391], [0.7274, 0.00747], [0.7364, 0.008665], [0.7446, 0.009955], [0.7533, 0.01138], [0.7609, 0.01303], [0.7702, 0.01487], [0.7789, 0.0169], [0.787, 0.01896], [0.7955, 0.02123], [0.8045, 0.02399], [0.8134, 0.02686], [0.8217, 0.0299], [0.8307, 0.03309], [0.8392, 0.03649], [0.8479, 0.04024], [0.857, 0.04424], [0.8665, 0.04841], [0.8752, 0.05294], [0.8848, 0.05774], [0.8942, 0.06267], [0.9036, 0.06794], [0.913, 0.0735], [0.9229, 0.07915], [0.9323, 0.08516], [0.9418, 0.09167], [0.9525, 0.09832], [0.9622, 0.1052], [0.9726, 0.1124], [0.9837, 0.12], [0.9941, 0.1278], [1.005, 0.1357], [1.015, 0.1441], [1.027, 0.1529], [1.038, 0.1618], [1.049, 0.1708], [1.061, 0.1805], [1.073, 0.1903]]}, \"id\": \"el218414486852880\"});\n",
        "            })\n",
        "         });\n",
        "}\n",
        "</script>"
       ],
       "metadata": {},
       "output_type": "display_data",
       "png": "[encoded data removed]",
       "text": [
        "<matplotlib.figure.Figure at 0x10b6ff110>"
       ]
      }
     ],
     "prompt_number": 218
    },
    {
     "cell_type": "code",
     "collapsed": false,
     "input": [],
     "language": "python",
     "metadata": {},
     "outputs": []
    },
    {
     "cell_type": "heading",
     "level": 1,
     "metadata": {},
     "source": [
      "3.13 LED"
     ]
    },
    {
     "cell_type": "code",
     "collapsed": false,
     "input": [
      "r = [300,3e3,30e3,300e3,100]\n",
      "v = [1.7202,2.0284,2.3278,2.6473,1.442]"
     ],
     "language": "python",
     "metadata": {},
     "outputs": [],
     "prompt_number": 154
    },
    {
     "cell_type": "code",
     "collapsed": false,
     "input": [
      "# plt.semilogx(r,v,'o')\n",
      "fit_and_plot(log10(r),v,title=\"LED response\", ylabel= \"Voltage drop across LED [V]\",xlabel=\"log(Resistance) [$\\Omega$]\")"
     ],
     "language": "python",
     "metadata": {},
     "outputs": [
      {
       "output_type": "stream",
       "stream": "stdout",
       "text": [
        "[ 0.33333783  0.8392249 ]\n",
        " \n",
        "0.3333 x + 0.8392\n"
       ]
      },
      {
       "metadata": {},
       "output_type": "pyout",
       "prompt_number": 155,
       "text": [
        "poly1d([ 0.33333783,  0.8392249 ])"
       ]
      },
      {
       "metadata": {},
       "output_type": "display_data",
       "png": "[encoded data removed]",
       "text": [
        "<matplotlib.figure.Figure at 0x109e2a4d0>"
       ]
      }
     ],
     "prompt_number": 155
    },
    {
     "cell_type": "heading",
     "level": 1,
     "metadata": {},
     "source": [
      "3.14 LED Curve Tracer"
     ]
    },
    {
     "cell_type": "code",
     "collapsed": false,
     "input": [
      "data= np.loadtxt(\"led.dat\")#,delimiter=\" \")\n",
      "v = data[::,0]\n",
      "i = data[::,1]\n",
      "#data from 3.4\n",
      "plt.semilogy(v,i,'-')\n",
      "plt.title(\"LED characteristic curve\",fontsize=12)\n",
      "plt.xlabel(\"Voltage [V]\",fontsize=12)\n",
      "plt.ylabel(\"log(Current) [A]\",fontsize=12)"
     ],
     "language": "python",
     "metadata": {},
     "outputs": [
      {
       "metadata": {},
       "output_type": "pyout",
       "prompt_number": 164,
       "text": [
        "<matplotlib.text.Text at 0x10a405a50>"
       ]
      },
      {
       "metadata": {},
       "output_type": "display_data",
       "png": "[encoded data removed]",
       "text": [
        "<matplotlib.figure.Figure at 0x109efcd50>"
       ]
      }
     ],
     "prompt_number": 164
    },
    {
     "cell_type": "heading",
     "level": 1,
     "metadata": {},
     "source": [
      "3.18 Zener Diode"
     ]
    },
    {
     "cell_type": "code",
     "collapsed": false,
     "input": [
      "data= np.loadtxt(\"1N5234.dat\")\n",
      "v = data[::,0]\n",
      "i = data[::,1]\n",
      "#data from 3.4\n",
      "plt.semilogy(v,i,'-')\n",
      "plt.title(\"1N5234 Diode\",fontsize=12)\n",
      "plt.xlabel(\"Voltage [V]\",fontsize=12)\n",
      "plt.ylabel(\"log(Current) [A]\",fontsize=12)"
     ],
     "language": "python",
     "metadata": {},
     "outputs": [
      {
       "metadata": {},
       "output_type": "pyout",
       "prompt_number": 166,
       "text": [
        "<matplotlib.text.Text at 0x10a443e50>"
       ]
      },
      {
       "metadata": {},
       "output_type": "display_data",
       "png": "[encoded data removed]",
       "text": [
        "<matplotlib.figure.Figure at 0x10a421410>"
       ]
      }
     ],
     "prompt_number": 166
    },
    {
     "cell_type": "code",
     "collapsed": false,
     "input": [
      "v = [0.25,0.5,0.7,1,2]\n",
      "a = [115e-3,56e-3,22e-3,11e-3,10e-3]"
     ],
     "language": "python",
     "metadata": {},
     "outputs": [],
     "prompt_number": 231
    },
    {
     "cell_type": "code",
     "collapsed": false,
     "input": [
      "mpld3.disable_notebook()"
     ],
     "language": "python",
     "metadata": {},
     "outputs": [],
     "prompt_number": 233
    },
    {
     "cell_type": "code",
     "collapsed": false,
     "input": [
      "plt.plot(v,a)"
     ],
     "language": "python",
     "metadata": {},
     "outputs": [
      {
       "metadata": {},
       "output_type": "pyout",
       "prompt_number": 234,
       "text": [
        "[<matplotlib.lines.Line2D at 0x10be13810>]"
       ]
      },
      {
       "metadata": {},
       "output_type": "display_data",
       "png": "[encoded data removed]",
       "text": [
        "<matplotlib.figure.Figure at 0x10bd48490>"
       ]
      }
     ],
     "prompt_number": 234
    },
    {
     "cell_type": "code",
     "collapsed": false,
     "input": [],
     "language": "python",
     "metadata": {},
     "outputs": []
    }
   ],
   "metadata": {}
  }
 ]
}