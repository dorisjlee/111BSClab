{
 "metadata": {
  "name": "",
  "signature": "sha256:d08f0cfcaf7393a0e8c9fced06f5cfc83be547987e52fb82f289c52dc078ee0a"
 },
 "nbformat": 3,
 "nbformat_minor": 0,
 "worksheets": [
  {
   "cells": [
    {
     "cell_type": "code",
     "collapsed": false,
     "input": [
      "%pylab inline"
     ],
     "language": "python",
     "metadata": {},
     "outputs": [
      {
       "output_type": "stream",
       "stream": "stdout",
       "text": [
        "Populating the interactive namespace from numpy and matplotlib\n"
       ]
      }
     ],
     "prompt_number": 27
    },
    {
     "cell_type": "code",
     "collapsed": false,
     "input": [
      "def compute_uncertainty(value,basic_range):\n",
      "    return 0.012/100.*value+0.004/100.*basic_range"
     ],
     "language": "python",
     "metadata": {},
     "outputs": [],
     "prompt_number": 28
    },
    {
     "cell_type": "code",
     "collapsed": false,
     "input": [
      "compute_uncertainty(4.419e-3,100e3)"
     ],
     "language": "python",
     "metadata": {},
     "outputs": [
      {
       "metadata": {},
       "output_type": "pyout",
       "prompt_number": 50,
       "text": [
        "4.00000053028"
       ]
      }
     ],
     "prompt_number": 50
    },
    {
     "cell_type": "code",
     "collapsed": false,
     "input": [
      "compute_uncertainty(4.419e-3,100e-3)"
     ],
     "language": "python",
     "metadata": {},
     "outputs": [
      {
       "metadata": {},
       "output_type": "pyout",
       "prompt_number": 48,
       "text": [
        "4.530280000000001e-06"
       ]
      }
     ],
     "prompt_number": 48
    },
    {
     "cell_type": "code",
     "collapsed": false,
     "input": [
      "compute_uncertainty(2.560e-3,100e-3)"
     ],
     "language": "python",
     "metadata": {},
     "outputs": [
      {
       "metadata": {},
       "output_type": "pyout",
       "prompt_number": 49,
       "text": [
        "4.307200000000001e-06"
       ]
      }
     ],
     "prompt_number": 49
    },
    {
     "cell_type": "code",
     "collapsed": false,
     "input": [
      "def fit_and_plot(x,y,xlabel=\"\",ylabel=\"\",title=\"\",zeroed=False,annotate_fit= True,right_words = False,error_bar=\"\",sci_lim = False):\n",
      "#     x=1./x**2\n",
      "#     y=1./y\n",
      "#     fig = plt.figure()\n",
      "    fig = plt.figure()\n",
      "    ax1 = fig.add_subplot(111)\n",
      "    ax1.plot(x,y,'o')\n",
      "    z = np.polyfit(x,y, 1) \n",
      "    print z\n",
      "    p = np.poly1d(z)\n",
      "    print p\n",
      "    if zeroed : \n",
      "        a = np.linspace(0,max(x))\n",
      "    else:\n",
      "        a = np.linspace(min(x),max(x))\n",
      "    ax1.plot(a, p(np.linspace(min(x),max(x))),color=\"red\")\n",
      "    if annotate_fit: \n",
      "        slope = z[0]\n",
      "        intercept = z[1]\n",
      "        if right_words:    \n",
      "            ax1.text(0.48,0.85,\"y= %.5f x + %.5f\"%(slope,intercept), fontsize=13,transform=ax1.transAxes)\n",
      "        else:\n",
      "            ax1.text(0.03,0.85,\"y= %.5f x + %.5f\"%(slope,intercept), fontsize=13,transform=ax1.transAxes)\n",
      "    if title !=\"\":\n",
      "        plt.title(title,fontsize=13 )    \n",
      "        plt.xlabel(xlabel,fontsize=12)\n",
      "        plt.ylabel(ylabel,fontsize=12)\n",
      "#     ax1 = fig.add_subplot(111)\n",
      "#     ax1.text(0.03,0.8,\"y= %.5f x %.5f\"%(p[0],p[1]), fontsize=13,transform=ax.transAxes)\n",
      "    if error_bar!=\"\":\n",
      "        ax1.errorbar(x, y, yerr=error_bar, fmt='o')\n",
      "    if sci_lim:\n",
      "        plt.ticklabel_format(style='sci', axis='x', scilimits=(0,0))\n",
      "    plt.tick_params(axis='both', which='major', labelsize=12)\n",
      "    plt.tick_params(axis='both', which='minor', labelsize=12)\n",
      "    return p"
     ],
     "language": "python",
     "metadata": {},
     "outputs": [],
     "prompt_number": 54
    },
    {
     "cell_type": "heading",
     "level": 1,
     "metadata": {},
     "source": [
      "3.3"
     ]
    },
    {
     "cell_type": "code",
     "collapsed": false,
     "input": [
      "r = [34.69e6,29.48e6,17.05e6,22.25e6,27.47e6,40.1e6]\n",
      "v =[5.761,5.620,5.030,5.58,5.61,5.80]\n",
      "i  =[5.85e-3,5.86e-3,6.06e-3,6.01e-03,5.97e-3,6.05e-3]"
     ],
     "language": "python",
     "metadata": {},
     "outputs": [],
     "prompt_number": 68
    },
    {
     "cell_type": "code",
     "collapsed": false,
     "input": [
      "# fit_and_plot(i,v)\n",
      "plt.plot(v,i,'o')"
     ],
     "language": "python",
     "metadata": {},
     "outputs": [
      {
       "metadata": {},
       "output_type": "pyout",
       "prompt_number": 73,
       "text": [
        "[<matplotlib.lines.Line2D at 0x108950a10>]"
       ]
      },
      {
       "metadata": {},
       "output_type": "display_data",
       "png": "[encoded data removed]",
       "text": [
        "<matplotlib.figure.Figure at 0x10889bcd0>"
       ]
      }
     ],
     "prompt_number": 73
    },
    {
     "cell_type": "heading",
     "level": 1,
     "metadata": {},
     "source": [
      "3.5"
     ]
    },
    {
     "cell_type": "code",
     "collapsed": false,
     "input": [
      "cd updated/"
     ],
     "language": "python",
     "metadata": {},
     "outputs": [
      {
       "output_type": "stream",
       "stream": "stdout",
       "text": [
        "/Users/dorislee/Desktop/Spring_2015/Phys111/111BSClab/lab3/data/updated\n"
       ]
      }
     ],
     "prompt_number": 85
    },
    {
     "cell_type": "heading",
     "level": 4,
     "metadata": {},
     "source": [
      "Diode at room temperature"
     ]
    },
    {
     "cell_type": "code",
     "collapsed": false,
     "input": [
      "data= np.loadtxt(\"Diode.dat\")#,delimiter=\" \")\n",
      "v_diode = data[::,0]\n",
      "i_diode = data[::,1]\n",
      "# plt.plot(v_diode,i_diode,'-')\n",
      "# plt.plot(v_diode,i_diode,'o')\n",
      "# plt.figure()\n",
      "# plt.loglog(v_diode,i_diode,'-')\n",
      "# plt.loglog(v_diode,i_diode,'o')\n",
      "# plt.figure()\n",
      "plt.semilogy(v_diode,i_diode,'-')"
     ],
     "language": "python",
     "metadata": {},
     "outputs": [
      {
       "metadata": {},
       "output_type": "pyout",
       "prompt_number": 167,
       "text": [
        "[<matplotlib.lines.Line2D at 0x10a421310>]"
       ]
      },
      {
       "metadata": {},
       "output_type": "display_data",
       "png": "[encoded data removed]",
       "text": [
        "<matplotlib.figure.Figure at 0x10a3c9450>"
       ]
      }
     ],
     "prompt_number": 167
    },
    {
     "cell_type": "code",
     "collapsed": false,
     "input": [
      "# data= np.loadtxt(\"diode.csv\",delimiter=\",\",dtype=\"string\")\n",
      "# parsed1 =[float(i) for i in data[::,0] ]\n",
      "# parsed =[]\n",
      "# for i in data[::,1]: \n",
      "#     _val =0\n",
      "#     if i[-1] ==\"n\":\n",
      "#         _val=i[:-1]+\"e-9\"\n",
      "#     elif i[-1] == \"u\":\n",
      "#         _val=i[:-1]+\"e-6\"\n",
      "#     elif i[-1] ==\"m\":\n",
      "#         _val=i[:-1]+\"e-3\"\n",
      "#     parsed.append(float(_val))\n",
      "# data[::,1] = parsed\n",
      "# parsed_data = np.array([parsed1,parsed])\n",
      "# plt.plot(parsed_data[0],parsed_data[1],'o')"
     ],
     "language": "python",
     "metadata": {},
     "outputs": [],
     "prompt_number": 141
    },
    {
     "cell_type": "heading",
     "level": 4,
     "metadata": {},
     "source": [
      "Diode in LN2"
     ]
    },
    {
     "cell_type": "code",
     "collapsed": false,
     "input": [
      "data= np.loadtxt(\"n2.dat\")#,delimiter=\" \")\n",
      "v = data[::,0]\n",
      "i = data[::,1]\n",
      "#data from 3.4\n",
      "v2 = [0.368,0.376,392e-3,400e-3,404e-3]\n",
      "i2 = [11.05e-3,11.10e-3,11.06e-3,11.09e-3,11.12e-3]\n",
      "plt.semilogy(v2,i2,'o',color='red')\n",
      "plt.semilogy(v,i,'-')"
     ],
     "language": "python",
     "metadata": {},
     "outputs": [
      {
       "metadata": {},
       "output_type": "pyout",
       "prompt_number": 176,
       "text": [
        "[<matplotlib.lines.Line2D at 0x10a667910>]"
       ]
      },
      {
       "metadata": {},
       "output_type": "display_data",
       "png": "[encoded data removed]",
       "text": [
        "<matplotlib.figure.Figure at 0x10a6bbad0>"
       ]
      }
     ],
     "prompt_number": 176
    },
    {
     "cell_type": "code",
     "collapsed": false,
     "input": [
      "print v[140]\n",
      "print i[140]"
     ],
     "language": "python",
     "metadata": {},
     "outputs": [
      {
       "output_type": "stream",
       "stream": "stdout",
       "text": [
        "1.257\n",
        "0.09069\n"
       ]
      }
     ],
     "prompt_number": 182
    },
    {
     "cell_type": "code",
     "collapsed": false,
     "input": [
      "np.where(v>1.) and np.where(v>1.2)"
     ],
     "language": "python",
     "metadata": {},
     "outputs": [
      {
       "metadata": {},
       "output_type": "pyout",
       "prompt_number": 180,
       "text": [
        "(array([135, 136, 137, 138, 139, 140, 141, 142, 143, 144, 145, 146, 147,\n",
        "        148, 149, 150, 151, 152, 153]),)"
       ]
      }
     ],
     "prompt_number": 180
    },
    {
     "cell_type": "heading",
     "level": 1,
     "metadata": {},
     "source": [
      "3.13 LED"
     ]
    },
    {
     "cell_type": "code",
     "collapsed": false,
     "input": [
      "r = [300,3e3,30e3,300e3,100]\n",
      "v = [1.7202,2.0284,2.3278,2.6473,1.442]"
     ],
     "language": "python",
     "metadata": {},
     "outputs": [],
     "prompt_number": 154
    },
    {
     "cell_type": "code",
     "collapsed": false,
     "input": [
      "# plt.semilogx(r,v,'o')\n",
      "fit_and_plot(log10(r),v,title=\"LED response\", ylabel= \"Voltage drop across LED [V]\",xlabel=\"log(Resistance) [$\\Omega$]\")"
     ],
     "language": "python",
     "metadata": {},
     "outputs": [
      {
       "output_type": "stream",
       "stream": "stdout",
       "text": [
        "[ 0.33333783  0.8392249 ]\n",
        " \n",
        "0.3333 x + 0.8392\n"
       ]
      },
      {
       "metadata": {},
       "output_type": "pyout",
       "prompt_number": 155,
       "text": [
        "poly1d([ 0.33333783,  0.8392249 ])"
       ]
      },
      {
       "metadata": {},
       "output_type": "display_data",
       "png": "[encoded data removed]",
       "text": [
        "<matplotlib.figure.Figure at 0x109e2a4d0>"
       ]
      }
     ],
     "prompt_number": 155
    },
    {
     "cell_type": "heading",
     "level": 1,
     "metadata": {},
     "source": [
      "3.14 LED Curve Tracer"
     ]
    },
    {
     "cell_type": "code",
     "collapsed": false,
     "input": [
      "data= np.loadtxt(\"led.dat\")#,delimiter=\" \")\n",
      "v = data[::,0]\n",
      "i = data[::,1]\n",
      "#data from 3.4\n",
      "plt.semilogy(v,i,'-')\n",
      "plt.title(\"LED characteristic curve\",fontsize=12)\n",
      "plt.xlabel(\"Voltage [V]\",fontsize=12)\n",
      "plt.ylabel(\"log(Current) [A]\",fontsize=12)"
     ],
     "language": "python",
     "metadata": {},
     "outputs": [
      {
       "metadata": {},
       "output_type": "pyout",
       "prompt_number": 164,
       "text": [
        "<matplotlib.text.Text at 0x10a405a50>"
       ]
      },
      {
       "metadata": {},
       "output_type": "display_data",
       "png": "[encoded data removed]",
       "text": [
        "<matplotlib.figure.Figure at 0x109efcd50>"
       ]
      }
     ],
     "prompt_number": 164
    },
    {
     "cell_type": "heading",
     "level": 1,
     "metadata": {},
     "source": [
      "3.18 Zener Diode"
     ]
    },
    {
     "cell_type": "code",
     "collapsed": false,
     "input": [
      "data= np.loadtxt(\"1N5234.dat\")\n",
      "v = data[::,0]\n",
      "i = data[::,1]\n",
      "#data from 3.4\n",
      "plt.semilogy(v,i,'-')\n",
      "plt.title(\"1N5234 Diode\",fontsize=12)\n",
      "plt.xlabel(\"Voltage [V]\",fontsize=12)\n",
      "plt.ylabel(\"log(Current) [A]\",fontsize=12)"
     ],
     "language": "python",
     "metadata": {},
     "outputs": [
      {
       "metadata": {},
       "output_type": "pyout",
       "prompt_number": 166,
       "text": [
        "<matplotlib.text.Text at 0x10a443e50>"
       ]
      },
      {
       "metadata": {},
       "output_type": "display_data",
       "png": "[encoded data removed]",
       "text": [
        "<matplotlib.figure.Figure at 0x10a421410>"
       ]
      }
     ],
     "prompt_number": 166
    },
    {
     "cell_type": "code",
     "collapsed": false,
     "input": [],
     "language": "python",
     "metadata": {},
     "outputs": []
    }
   ],
   "metadata": {}
  }
 ]
}