{
 "metadata": {
  "name": "",
  "signature": "sha256:d78aa69837256315393c33e6c88cbce78ffdd396ea0e3b80cf5927c34fc60d69"
 },
 "nbformat": 3,
 "nbformat_minor": 0,
 "worksheets": [
  {
   "cells": [
    {
     "cell_type": "code",
     "collapsed": false,
     "input": [
      "%pylab inline"
     ],
     "language": "python",
     "metadata": {},
     "outputs": [
      {
       "output_type": "stream",
       "stream": "stdout",
       "text": [
        "Populating the interactive namespace from numpy and matplotlib\n"
       ]
      }
     ],
     "prompt_number": 3
    },
    {
     "cell_type": "code",
     "collapsed": false,
     "input": [
      "def compute_uncertainty(value,basic_range):\n",
      "    return 0.012/100.*value+0.004/100.*basic_range"
     ],
     "language": "python",
     "metadata": {},
     "outputs": [],
     "prompt_number": 25
    },
    {
     "cell_type": "code",
     "collapsed": false,
     "input": [
      "compute_uncertainty(12,10)*1000"
     ],
     "language": "python",
     "metadata": {},
     "outputs": [
      {
       "metadata": {},
       "output_type": "pyout",
       "prompt_number": 29,
       "text": [
        "1.84"
       ]
      }
     ],
     "prompt_number": 29
    },
    {
     "cell_type": "code",
     "collapsed": false,
     "input": [
      "compute_uncertainty(6.2946,10)*1000"
     ],
     "language": "python",
     "metadata": {},
     "outputs": [
      {
       "metadata": {},
       "output_type": "pyout",
       "prompt_number": 28,
       "text": [
        "1.1553520000000002"
       ]
      }
     ],
     "prompt_number": 28
    },
    {
     "cell_type": "code",
     "collapsed": false,
     "input": [
      "compute_uncertainty(4.419e-3,100e3)"
     ],
     "language": "python",
     "metadata": {},
     "outputs": [
      {
       "metadata": {},
       "output_type": "pyout",
       "prompt_number": 50,
       "text": [
        "4.00000053028"
       ]
      }
     ],
     "prompt_number": 50
    },
    {
     "cell_type": "code",
     "collapsed": false,
     "input": [
      "compute_uncertainty(4.419e-3,100e-3)"
     ],
     "language": "python",
     "metadata": {},
     "outputs": [
      {
       "metadata": {},
       "output_type": "pyout",
       "prompt_number": 48,
       "text": [
        "4.530280000000001e-06"
       ]
      }
     ],
     "prompt_number": 48
    },
    {
     "cell_type": "code",
     "collapsed": false,
     "input": [
      "compute_uncertainty(2.560e-3,100e-3)"
     ],
     "language": "python",
     "metadata": {},
     "outputs": [
      {
       "metadata": {},
       "output_type": "pyout",
       "prompt_number": 49,
       "text": [
        "4.307200000000001e-06"
       ]
      }
     ],
     "prompt_number": 49
    },
    {
     "cell_type": "code",
     "collapsed": false,
     "input": [
      "def fit_and_plot(x,y,xlabel=\"\",ylabel=\"\",title=\"\",zeroed=False,annotate_fit= True,right_words = False,error_bar=\"\",sci_lim = False,annotate=\"\",right_annotate=False):\n",
      "#     x=1./x**2\n",
      "#     y=1./y\n",
      "#     fig = plt.figure()\n",
      "    fig = plt.figure()\n",
      "    ax1 = fig.add_subplot(111)\n",
      "    ax1.plot(x,y,'o')\n",
      "    z = np.polyfit(x,y, 1) \n",
      "    print z\n",
      "    p = np.poly1d(z)\n",
      "    print p\n",
      "    if zeroed : \n",
      "        a = np.linspace(0,max(x))\n",
      "    else:\n",
      "        a = np.linspace(min(x),max(x))\n",
      "    ax1.plot(a, p(np.linspace(min(x),max(x))),color=\"red\")\n",
      "    if annotate_fit: \n",
      "        slope = z[0]\n",
      "        intercept = z[1]\n",
      "        if right_words:    \n",
      "            ax1.text(0.48,0.85,\"y= %.5f x + %.5f\"%(slope,intercept), fontsize=13,transform=ax1.transAxes)\n",
      "        else:\n",
      "            ax1.text(0.03,0.85,\"y= %.5f x + %.5f\"%(slope,intercept), fontsize=13,transform=ax1.transAxes)\n",
      "    if title !=\"\":\n",
      "        plt.title(title,fontsize=13 )    \n",
      "        plt.xlabel(xlabel,fontsize=12)\n",
      "        plt.ylabel(ylabel,fontsize=12)\n",
      "#     ax1 = fig.add_subplot(111)\n",
      "#     ax1.text(0.03,0.8,\"y= %.5f x %.5f\"%(p[0],p[1]), fontsize=13,transform=ax.transAxes)\n",
      "    if annotate!=\"\":\n",
      "        if right_annotate: \n",
      "            ax1.text(0.48,0.85,annotate, fontsize=13,transform=ax1.transAxes)\n",
      "    if error_bar!=\"\":\n",
      "        ax1.errorbar(x, y, yerr=error_bar, fmt='o')\n",
      "    if sci_lim:\n",
      "        plt.ticklabel_format(style='sci', axis='x', scilimits=(0,0))\n",
      "    plt.tick_params(axis='both', which='major', labelsize=12)\n",
      "    plt.tick_params(axis='both', which='minor', labelsize=12)\n",
      "    return p"
     ],
     "language": "python",
     "metadata": {},
     "outputs": [],
     "prompt_number": 42
    },
    {
     "cell_type": "heading",
     "level": 1,
     "metadata": {},
     "source": [
      "3.3"
     ]
    },
    {
     "cell_type": "code",
     "collapsed": false,
     "input": [
      "r = np.array([34.69e6,29.48e6,17.05e6,22.25e6,27.47e6,40.10e6])\n",
      "v =np.array([5.761,5.620,5.030,5.58,5.61,5.80])\n",
      "i = np.array([5.85,5.86,6.06,6.01,5.97,6.05])*10**(-3)\n",
      "i2 = v/r\n",
      "# r = np.array([1e3,510,1.5e3,2e3])\n",
      "# v =np.array([4.992,4.990,4.993,4.998])\n",
      "# i=v/r\n",
      "# plt.plot(v,i2,'o')\n",
      "fit_and_plot(v,i2,annotate_fit=\"\",title=\"Offset Adder Voltage Adder\", xlabel=\"Votlage[V]\", ylabel=\"Current[I]\")#,annotate=\"$y=-1.822\\times10^{-7}x + 1.223\\times 10^{-6}$\",right_annotate=True)\n",
      "# fit_and_plot(v,i,annotate_fit=\"\",title=\"Offset Adder Voltage Adder\", xlabel=\"Votlage[V]\", ylabel=\"Current[I]\")#,annotate=\"$y=-1.822\\times10^{-7}x + 1.223\\times 10^{-6}$\",right_annotate=True)"
     ],
     "language": "python",
     "metadata": {},
     "outputs": [
      {
       "output_type": "stream",
       "stream": "stdout",
       "text": [
        "[ -1.82151150e-07   1.22256693e-06]\n",
        " \n",
        "-1.822e-07 x + 1.223e-06\n"
       ]
      },
      {
       "metadata": {},
       "output_type": "pyout",
       "prompt_number": 351,
       "text": [
        "poly1d([ -1.82151150e-07,   1.22256693e-06])"
       ]
      },
      {
       "metadata": {},
       "output_type": "display_data",
       "png": "[encoded data removed]",
       "text": [
        "<matplotlib.figure.Figure at 0x10d7c9110>"
       ]
      }
     ],
     "prompt_number": 351
    },
    {
     "cell_type": "heading",
     "level": 1,
     "metadata": {},
     "source": [
      "3.4"
     ]
    },
    {
     "cell_type": "heading",
     "level": 5,
     "metadata": {},
     "source": [
      "Not sure what we are supposed to see here: "
     ]
    },
    {
     "cell_type": "code",
     "collapsed": false,
     "input": [
      "# v = np.array([368,376,392,400,404])#*10**(-3)\n",
      "# i = np.array([11.05,11.10,11.06,11.09,11.12])#*10**(-3)\n",
      "v = np.array([0.778,0.775,0.777,0.767,0.645,0.745,0.755,0.688])\n",
      "i = np.array([23.6,23.9,24.1,20.8,2.13,13.2,16.4,4.83])*10**(-3)\n",
      "plt.plot(sort(v),sort(i),'o')\n",
      "plt.plot(sort(v),sort(i),'-',color='red')\n",
      "plt.title(\"Characteristic curve of diode\",fontsize=12)\n",
      "plt.ylabel(\"Current[A]\",fontsize=12)\n",
      "plt.xlabel(\"Voltage[V]\",fontsize=12)\n",
      "plt.figure()\n",
      "# plt.semilogy(v,i,'o')\n",
      "# plt.semilogy(v,i,'-')\n",
      "fit_and_plot(v,log(i))\n",
      "plt.title(\"Characteristic curve of diode\",fontsize=12)\n",
      "plt.ylabel(\"log(Current)[A]\",fontsize=12)\n",
      "plt.xlabel(\"Voltage[V]\",fontsize=12)"
     ],
     "language": "python",
     "metadata": {},
     "outputs": [
      {
       "output_type": "stream",
       "stream": "stdout",
       "text": [
        "[ 18.32906707 -17.96158167]\n",
        " \n",
        "18.33 x - 17.96\n"
       ]
      },
      {
       "metadata": {},
       "output_type": "pyout",
       "prompt_number": 348,
       "text": [
        "<matplotlib.text.Text at 0x10d6270d0>"
       ]
      },
      {
       "metadata": {},
       "output_type": "display_data",
       "png": "[encoded data removed]",
       "text": [
        "<matplotlib.figure.Figure at 0x10d646710>"
       ]
      },
      {
       "metadata": {},
       "output_type": "display_data",
       "text": [
        "<matplotlib.figure.Figure at 0x10d676c10>"
       ]
      },
      {
       "metadata": {},
       "output_type": "display_data",
       "png": "[encoded data removed]",
       "text": [
        "<matplotlib.figure.Figure at 0x10d6766d0>"
       ]
      }
     ],
     "prompt_number": 348
    },
    {
     "cell_type": "heading",
     "level": 1,
     "metadata": {},
     "source": [
      "3.5"
     ]
    },
    {
     "cell_type": "code",
     "collapsed": false,
     "input": [
      "cd ../final_diode/"
     ],
     "language": "python",
     "metadata": {},
     "outputs": [
      {
       "output_type": "stream",
       "stream": "stdout",
       "text": [
        "/Users/dorislee/Desktop/Spring_2015/Phys111/111BSClab/lab3/data/final_diode\n"
       ]
      }
     ],
     "prompt_number": 336
    },
    {
     "cell_type": "heading",
     "level": 4,
     "metadata": {},
     "source": [
      "Diode at room temperature"
     ]
    },
    {
     "cell_type": "code",
     "collapsed": false,
     "input": [
      "data= np.loadtxt(\"Diode.dat\")#,delimiter=\" \")\n",
      "v_diode = data[::,0]\n",
      "i_diode = data[::,1]\n",
      "# plt.plot(v_diode,i_diode,'-')\n",
      "# plt.plot(v_diode,i_diode,'o')\n",
      "# plt.figure()\n",
      "# plt.loglog(v_diode,i_diode,'-')\n",
      "# plt.loglog(v_diode,i_diode,'o')\n",
      "# plt.figure()\n",
      "plt.semilogy(v_diode,i_diode,'-',label= \"Characteristic Curve from Curve Tracer\")\n",
      "#data from 3.4\n",
      "# v2 = [368e-3,376e-3,392e-3,400e-3,404e-3]\n",
      "# i2 = [11.05e-3,11.10e-3,11.06e-3,11.09e-3,11.12e-3]\n",
      "# plt.semilogy(v2,i2,'o',color='red')\n",
      "\n",
      "v = np.array([0.778,0.775,0.777,0.767,0.645,0.745,0.755,0.688])\n",
      "i = np.array([23.6,23.9,24.1,20.8,2.13,13.2,16.4,4.83])*10**(-3)\n",
      "plt.semilogy(v,i,'o',color='red',markersize=5,label=\"Manual VI measurements from #3.4 setup\")\n",
      "plt.title(\"Characteristic curve of room temperature diode\",fontsize=13)\n",
      "plt.ylabel(\"log(Current)[A]\",fontsize=12)\n",
      "plt.xlabel(\"Voltage[V]\",fontsize=12)\n",
      "from matplotlib.legend_handler import HandlerLine2D\n",
      "plt.legend(loc='lower right',prop={'size':12},numpoints=1)"
     ],
     "language": "python",
     "metadata": {},
     "outputs": [
      {
       "metadata": {},
       "output_type": "pyout",
       "prompt_number": 385,
       "text": [
        "<matplotlib.legend.Legend at 0x10f976290>"
       ]
      },
      {
       "metadata": {},
       "output_type": "display_data",
       "png": "[encoded data removed]",
       "text": [
        "<matplotlib.figure.Figure at 0x10f932710>"
       ]
      }
     ],
     "prompt_number": 385
    },
    {
     "cell_type": "code",
     "collapsed": false,
     "input": [
      "# data= np.loadtxt(\"diode.csv\",delimiter=\",\",dtype=\"string\")\n",
      "# parsed1 =[float(i) for i in data[::,0] ]\n",
      "# parsed =[]\n",
      "# for i in data[::,1]: \n",
      "#     _val =0\n",
      "#     if i[-1] ==\"n\":\n",
      "#         _val=i[:-1]+\"e-9\"\n",
      "#     elif i[-1] == \"u\":\n",
      "#         _val=i[:-1]+\"e-6\"\n",
      "#     elif i[-1] ==\"m\":\n",
      "#         _val=i[:-1]+\"e-3\"\n",
      "#     parsed.append(float(_val))\n",
      "# data[::,1] = parsed\n",
      "# parsed_data = np.array([parsed1,parsed])\n",
      "# plt.plot(parsed_data[0],parsed_data[1],'o')"
     ],
     "language": "python",
     "metadata": {},
     "outputs": [],
     "prompt_number": 141
    },
    {
     "cell_type": "code",
     "collapsed": false,
     "input": [
      "intersect1d(np.where(v_diode>0.35)[0],np.where(v_diode<0.37)[0])"
     ],
     "language": "python",
     "metadata": {},
     "outputs": [
      {
       "metadata": {},
       "output_type": "pyout",
       "prompt_number": 314,
       "text": [
        "array([38, 39])"
       ]
      }
     ],
     "prompt_number": 314
    },
    {
     "cell_type": "code",
     "collapsed": false,
     "input": [
      "v_diode[39]"
     ],
     "language": "python",
     "metadata": {},
     "outputs": [
      {
       "metadata": {},
       "output_type": "pyout",
       "prompt_number": 316,
       "text": [
        "0.36080000000000001"
       ]
      }
     ],
     "prompt_number": 316
    },
    {
     "cell_type": "heading",
     "level": 4,
     "metadata": {},
     "source": [
      "Diode in LN2"
     ]
    },
    {
     "cell_type": "code",
     "collapsed": false,
     "input": [
      "cd ../updated/"
     ],
     "language": "python",
     "metadata": {},
     "outputs": [
      {
       "output_type": "stream",
       "stream": "stdout",
       "text": [
        "/Users/dorislee/Desktop/Spring_2015/Phys111/111BSClab/lab3/data/updated\n"
       ]
      }
     ],
     "prompt_number": 389
    },
    {
     "cell_type": "code",
     "collapsed": false,
     "input": [
      "data= np.loadtxt(\"n2.dat\")\n",
      "v = data[::,0]\n",
      "i = data[::,1]\n",
      "plt.semilogy(v,i,'-')\n",
      "plt.title(\"Characteristic curve of diode in LN2\",fontsize=12)\n",
      "plt.ylabel(\"log(Current)[A]\",fontsize=12)\n",
      "plt.xlabel(\"Voltage[V]\",fontsize=12)\n",
      "plt.plot(v[115],i[115],'o')"
     ],
     "language": "python",
     "metadata": {},
     "outputs": [
      {
       "metadata": {},
       "output_type": "pyout",
       "prompt_number": 390,
       "text": [
        "[<matplotlib.lines.Line2D at 0x10fa73510>]"
       ]
      },
      {
       "metadata": {},
       "output_type": "display_data",
       "png": "[encoded data removed]",
       "text": [
        "<matplotlib.figure.Figure at 0x10fa1a150>"
       ]
      }
     ],
     "prompt_number": 390
    },
    {
     "cell_type": "code",
     "collapsed": false,
     "input": [
      "print v[115]\n",
      "print i[115]"
     ],
     "language": "python",
     "metadata": {},
     "outputs": [
      {
       "output_type": "stream",
       "stream": "stdout",
       "text": [
        "1.035\n",
        "0.0001186\n"
       ]
      }
     ],
     "prompt_number": 296
    },
    {
     "cell_type": "code",
     "collapsed": false,
     "input": [
      "intersect1d(np.where(v>1.0)[0],np.where(v<1.1)[0])"
     ],
     "language": "python",
     "metadata": {},
     "outputs": [
      {
       "metadata": {},
       "output_type": "pyout",
       "prompt_number": 295,
       "text": [
        "array([109, 110, 111, 112, 113, 114, 115, 116, 117, 118, 119, 120, 121, 122])"
       ]
      }
     ],
     "prompt_number": 295
    },
    {
     "cell_type": "code",
     "collapsed": false,
     "input": [
      "print v[3]\n",
      "print i[3]"
     ],
     "language": "python",
     "metadata": {},
     "outputs": [
      {
       "output_type": "stream",
       "stream": "stdout",
       "text": [
        "0.02974\n",
        "1.227e-07\n"
       ]
      }
     ],
     "prompt_number": 301
    },
    {
     "cell_type": "heading",
     "level": 3,
     "metadata": {},
     "source": [
      "with LN2"
     ]
    },
    {
     "cell_type": "code",
     "collapsed": false,
     "input": [
      "e =1.6e-19\n",
      "k=1.38e-23\n",
      "i_sat = 5.22e-9\n",
      "T=170\n",
      "n = e*v/(k*T)/log(i/i_sat+1)"
     ],
     "language": "python",
     "metadata": {},
     "outputs": [],
     "prompt_number": 400
    },
    {
     "cell_type": "code",
     "collapsed": false,
     "input": [
      "n"
     ],
     "language": "python",
     "metadata": {},
     "outputs": [
      {
       "metadata": {},
       "output_type": "pyout",
       "prompt_number": 401,
       "text": [
        "array([  0.01817237,   0.24730071,          nan,   0.63406128,\n",
        "         0.99953526,          nan,   1.08233548,   1.2413558 ,\n",
        "         1.33626417,   1.42657988,   2.26837545,   1.82255599,\n",
        "         2.1352392 ,   2.318204  ,   2.01967705,   2.4066104 ,\n",
        "         2.26594985,   2.66848248,   2.59786968,   2.55482714,\n",
        "         3.17451488,   2.91829189,   3.10171186,   3.12049737,\n",
        "         2.99673038,   3.29610237,   3.57325213,   3.80591419,\n",
        "         3.64926431,   4.1820037 ,   4.091298  ,   4.14520128,\n",
        "         4.37562198,   4.2948261 ,   4.37583302,   4.66534864,\n",
        "         4.52593092,   4.62882659,   4.76680467,   4.91494105,\n",
        "         5.03339955,   4.90370036,   5.00374577,   5.40075844,\n",
        "         5.27960359,   5.41948604,   5.52125754,   5.60685783,\n",
        "         5.99690412,   5.87096316,   5.92170296,   5.93840408,\n",
        "         5.88170876,   6.2335399 ,   6.57506053,   6.40451451,\n",
        "         6.32628014,   6.61691878,   6.73062952,   6.7777713 ,\n",
        "         6.76286945,   6.84724631,   6.98022817,   7.2552507 ,\n",
        "         7.26031486,   7.43415104,   7.37891202,   7.41993085,\n",
        "         7.60703588,   7.60581124,   7.94788166,   7.8071952 ,\n",
        "         8.09208102,   8.12409647,   7.98120793,   8.3599288 ,\n",
        "         8.3652151 ,   8.29240053,   8.76129312,   8.48419484,\n",
        "         8.75437503,   8.76011895,   8.83456656,   9.13873197,\n",
        "         9.09010312,   9.08934913,   9.17601258,   9.46018341,\n",
        "         9.36545231,   9.40132776,   9.58173711,   9.75242729,\n",
        "         9.7983793 ,   9.92059488,   9.90056387,  10.06325157,\n",
        "        10.19729085,  10.06746691,  10.44835595,  10.35722749,\n",
        "        10.40267907,  10.39269086,  10.49540149,  10.54929931,\n",
        "        10.57305868,  10.26413296,   9.86588229,   9.56151209,\n",
        "         9.11865365,   8.69005214,   8.23846389,   7.93196567,\n",
        "         7.64966118,   7.40816206,   7.20878908,   7.03696785,\n",
        "         6.86805739,   6.74295735,   6.33360601,   5.98956021,\n",
        "         5.85337761,   5.34843317,   5.22265511,   5.15628182,\n",
        "         5.1134032 ,   5.07970178,   5.08044998,   5.05455901,\n",
        "         5.04485859,   5.04200971,   5.03917586,   5.03620962,\n",
        "         5.04895096,   5.05375118,   5.05696893,   5.07736112,\n",
        "         5.08297113,   5.0979723 ,   5.11450364,   5.12277607,\n",
        "         5.14256347,   5.14683754,   5.17053443,   5.17479453,\n",
        "         5.21982932,   5.22755562,   5.23877837,   5.25354544,\n",
        "         5.28302195,   5.29233692,   5.30515032,   5.34500775,\n",
        "         5.35529499,   5.36891544])"
       ]
      }
     ],
     "prompt_number": 401
    },
    {
     "cell_type": "code",
     "collapsed": false,
     "input": [
      "e =1.6e-19\n",
      "k=1.38e-23\n",
      "i_sat = 2.37e-9\n",
      "T=298\n",
      "n = e*v_diode/(k*T)/log(i_diode/i_sat+1)"
     ],
     "language": "python",
     "metadata": {},
     "outputs": [
      {
       "output_type": "stream",
       "stream": "stderr",
       "text": [
        "-c:5: RuntimeWarning: invalid value encountered in log\n"
       ]
      }
     ],
     "prompt_number": 38
    },
    {
     "cell_type": "code",
     "collapsed": false,
     "input": [
      "print v_diode[23]\n",
      "print i_diode[23]"
     ],
     "language": "python",
     "metadata": {},
     "outputs": [
      {
       "output_type": "stream",
       "stream": "stdout",
       "text": [
        "0.212\n",
        "6.639e-07\n"
       ]
      }
     ],
     "prompt_number": 407
    },
    {
     "cell_type": "code",
     "collapsed": false,
     "input": [
      "n"
     ],
     "language": "python",
     "metadata": {},
     "outputs": [
      {
       "ename": "NameError",
       "evalue": "name 'n' is not defined",
       "output_type": "pyerr",
       "traceback": [
        "\u001b[0;31m---------------------------------------------------------------------------\u001b[0m\n\u001b[0;31mNameError\u001b[0m                                 Traceback (most recent call last)",
        "\u001b[0;32m<ipython-input-37-fe13119fb084>\u001b[0m in \u001b[0;36m<module>\u001b[0;34m()\u001b[0m\n\u001b[0;32m----> 1\u001b[0;31m \u001b[0mn\u001b[0m\u001b[0;34m\u001b[0m\u001b[0m\n\u001b[0m",
        "\u001b[0;31mNameError\u001b[0m: name 'n' is not defined"
       ]
      }
     ],
     "prompt_number": 37
    },
    {
     "cell_type": "code",
     "collapsed": false,
     "input": [
      "n[23]"
     ],
     "language": "python",
     "metadata": {},
     "outputs": [
      {
       "metadata": {},
       "output_type": "pyout",
       "prompt_number": 405,
       "text": [
        "1.4627611389861774"
       ]
      }
     ],
     "prompt_number": 405
    },
    {
     "cell_type": "code",
     "collapsed": false,
     "input": [
      "print v[80]\n",
      "print i[80]"
     ],
     "language": "python",
     "metadata": {},
     "outputs": [
      {
       "output_type": "stream",
       "stream": "stdout",
       "text": [
        "0.7442\n",
        "1.715e-06\n"
       ]
      }
     ],
     "prompt_number": 309
    },
    {
     "cell_type": "heading",
     "level": 1,
     "metadata": {},
     "source": [
      "3.9"
     ]
    },
    {
     "cell_type": "code",
     "collapsed": false,
     "input": [
      "cd data/final_diode/"
     ],
     "language": "python",
     "metadata": {},
     "outputs": [
      {
       "output_type": "stream",
       "stream": "stdout",
       "text": [
        "/Users/dorislee/Desktop/Spring_2015/Phys111/111BSClab/lab3/data/final_diode\n"
       ]
      }
     ],
     "prompt_number": 7
    },
    {
     "cell_type": "code",
     "collapsed": false,
     "input": [
      "data= np.loadtxt(\"Diode.dat\")#,delimiter=\" \")\n",
      "v_diode = data[::,0]\n",
      "i_diode = data[::,1]\n",
      "plt.plot(v_diode,i_diode,'-')"
     ],
     "language": "python",
     "metadata": {},
     "outputs": [
      {
       "metadata": {},
       "output_type": "pyout",
       "prompt_number": 9,
       "text": [
        "[<matplotlib.lines.Line2D at 0x10948d550>]"
       ]
      },
      {
       "metadata": {},
       "output_type": "display_data",
       "png": "[encoded data removed]",
       "text": [
        "<matplotlib.figure.Figure at 0x1094d9a50>"
       ]
      }
     ],
     "prompt_number": 9
    },
    {
     "cell_type": "code",
     "collapsed": false,
     "input": [
      "import mpld3\n",
      "mpld3.enable_notebook()"
     ],
     "language": "python",
     "metadata": {},
     "outputs": [],
     "prompt_number": 33
    },
    {
     "cell_type": "code",
     "collapsed": false,
     "input": [
      "i_sat = 2.37e-9\n",
      "e =1.6e-19\n",
      "k=1.38e-23\n",
      "R =9.8969e3\n",
      "v_in = np.array([0.24997,0.50114,0.69983,0.9998,2.0076])\n",
      "v_out = np.array([0.23986,0.38263,0.43008,0.468350,0.52329])\n",
      "# i  = i_sat*(np.exp(e*v_in/(1.43*k*298)))\n",
      "R_2 = 0.9782e3\n",
      "v_in_2  = np.array([0.25022,0.50739,0.70510,1.00397,2.0030])\n",
      "v_out_2 = np.array([0.24656,0.44248,0.52329,0.57437,0.6338])\n",
      "# v_in = 0.250\n",
      "i =  (v_in-v_out)/R\n",
      "i_2 = (v_in_2-v_out_2)/R_2\n",
      "\n",
      "plt.plot(v_out-v_in,i)\n",
      "plt.plot(v_out_2-v_in_2,i_2)\n",
      "\n",
      "# plt.figure()\n",
      "data= np.loadtxt(\"Diode.dat\")#,delimiter=\" \")\n",
      "v_diode = data[::,0]\n",
      "i_diode = data[::,1]\n",
      "plt.plot(v_diode,i_diode,'-')\n",
      "plt.ylim(0,0.0005)"
     ],
     "language": "python",
     "metadata": {},
     "outputs": [
      {
       "metadata": {},
       "output_type": "pyout",
       "prompt_number": 36,
       "text": [
        "(0, 0.0005)"
       ]
      },
      {
       "html": [
        "\n",
        "\n",
        "<style>\n",
        "\n",
        "</style>\n",
        "\n",
        "<div id=\"fig_el576044605887527203668739\"></div>\n",
        "<script>\n",
        "function mpld3_load_lib(url, callback){\n",
        "  var s = document.createElement('script');\n",
        "  s.src = url;\n",
        "  s.async = true;\n",
        "  s.onreadystatechange = s.onload = callback;\n",
        "  s.onerror = function(){console.warn(\"failed to load library \" + url);};\n",
        "  document.getElementsByTagName(\"head\")[0].appendChild(s);\n",
        "}\n",
        "\n",
        "if(typeof(mpld3) !== \"undefined\" && mpld3._mpld3IsLoaded){\n",
        "   // already loaded: just create the figure\n",
        "   !function(mpld3){\n",
        "       \n",
        "       mpld3.draw_figure(\"fig_el576044605887527203668739\", {\"axes\": [{\"xlim\": [-1.5, 1.5], \"yscale\": \"linear\", \"axesbg\": \"#FFFFFF\", \"texts\": [], \"zoomable\": true, \"images\": [], \"xdomain\": [-1.5, 1.5], \"ylim\": [0.0, 0.00050000000000000001], \"paths\": [], \"sharey\": [], \"sharex\": [], \"axesbgalpha\": null, \"axes\": [{\"scale\": \"linear\", \"tickformat\": null, \"grid\": {\"gridOn\": false}, \"fontsize\": 10.0, \"position\": \"bottom\", \"nticks\": 7, \"tickvalues\": null}, {\"scale\": \"linear\", \"tickformat\": null, \"grid\": {\"gridOn\": false}, \"fontsize\": 10.0, \"position\": \"left\", \"nticks\": 6, \"tickvalues\": null}], \"lines\": [{\"color\": \"#0000FF\", \"yindex\": 1, \"coordinates\": \"data\", \"dasharray\": \"10,0\", \"zorder\": 2, \"alpha\": 1, \"xindex\": 0, \"linewidth\": 1.0, \"data\": \"data01\", \"id\": \"el57604461228624\"}, {\"color\": \"#007F00\", \"yindex\": 1, \"coordinates\": \"data\", \"dasharray\": \"10,0\", \"zorder\": 2, \"alpha\": 1, \"xindex\": 0, \"linewidth\": 1.0, \"data\": \"data02\", \"id\": \"el57604460589008\"}, {\"color\": \"#FF0000\", \"yindex\": 1, \"coordinates\": \"data\", \"dasharray\": \"10,0\", \"zorder\": 2, \"alpha\": 1, \"xindex\": 0, \"linewidth\": 1.0, \"data\": \"data03\", \"id\": \"el57604461230992\"}], \"markers\": [], \"id\": \"el57604458020304\", \"ydomain\": [0.0, 0.00050000000000000001], \"collections\": [], \"xscale\": \"linear\", \"bbox\": [0.125, 0.125, 0.77500000000000002, 0.77500000000000002]}], \"height\": 320.0, \"width\": 480.0, \"plugins\": [{\"type\": \"reset\"}, {\"enabled\": false, \"button\": true, \"type\": \"zoom\"}, {\"enabled\": false, \"button\": true, \"type\": \"boxzoom\"}], \"data\": {\"data02\": [[-0.0036599999999999966, 3.7415661418932697e-06], [-0.06491000000000002, 6.635657329789412e-05], [-0.18180999999999992, 0.0001858617869556327], [-0.4296, 0.0004391739930484563], [-1.3692000000000002, 0.001399713759967287]], \"data03\": [[-0.00112, 1.269e-08], [0.01185, -4.919e-08], [0.0194, -2.346e-08], [0.02734, 9.943e-08], [0.03817, 1.392e-07], [0.04657, 7.699e-08], [0.05578, 2.678e-08], [0.06443, 1.556e-07], [0.07474, 5.443e-08], [0.08368, 3.222e-07], [0.09353, 3.742e-07], [0.1034, 4.058e-07], [0.113, 4.562e-07], [0.1229, 2.05e-07], [0.1291, 3.761e-07], [0.1407, 6.448e-07], [0.1503, 1.786e-07], [0.1586, 3.138e-07], [0.1677, 6.338e-07], [0.1762, 6.798e-07], [0.187, 7.852e-07], [0.198, 6.724e-07], [0.2066, 6.222e-07], [0.2136, 7.788e-07], [0.222, 7.663e-07], [0.2315, 9.89e-07], [0.2395, 1.124e-06], [0.2519, 1.121e-06], [0.2589, 9.979e-07], [0.2691, 1.415e-06], [0.2809, 1.55e-06], [0.289, 1.7e-06], [0.2967, 1.842e-06], [0.3072, 2.147e-06], [0.3163, 2.302e-06], [0.3218, 2.836e-06], [0.3339, 3.256e-06], [0.3428, 3.719e-06], [0.3539, 4.42e-06], [0.3608, 5.275e-06], [0.3706, 5.867e-06], [0.3799, 6.967e-06], [0.3876, 7.963e-06], [0.399, 9.899e-06], [0.4076, 1.18e-05], [0.4172, 1.404e-05], [0.4239, 1.673e-05], [0.4344, 1.947e-05], [0.4425, 2.311e-05], [0.4497, 2.724e-05], [0.461, 3.223e-05], [0.4639, 3.824e-05], [0.4737, 4.561e-05], [0.4815, 5.347e-05], [0.491, 6.339e-05], [0.4961, 7.223e-05], [0.5029, 8.521e-05], [0.5128, 9.842e-05], [0.5199, 0.0001138], [0.5245, 0.0001299], [0.53, 0.0001483], [0.537, 0.00017], [0.5426, 0.0001945], [0.5492, 0.0002213], [0.554, 0.0002487], [0.568, 0.0003162], [0.5769, 0.0003825], [0.5855, 0.0004501], [0.5937, 0.0005588], [0.6011, 0.0006649], [0.6122, 0.0008161], [0.6178, 0.0009638], [0.6328, 0.001168], [0.6376, 0.001378], [0.6485, 0.001696], [0.681, 0.003506], [0.6939, 0.004591], [0.7048, 0.005708], [0.7125, 0.00667], [0.7223, 0.007922], [0.7341, 0.009253], [0.7402, 0.01068], [0.7487, 0.01218], [0.7536, 0.01373], [0.7623, 0.01542], [0.7687, 0.01734], [0.7805, 0.01951], [0.7862, 0.02191], [0.7953, 0.02437], [0.7993, 0.0272], [0.8063, 0.03015], [0.8155, 0.03321], [0.8213, 0.0365], [0.8295, 0.03989], [0.8371, 0.04384], [0.8434, 0.0478], [0.8506, 0.05181], [0.862, 0.05635], [0.8663, 0.0609], [0.8861, 0.07229], [0.8874, 0.07647], [0.8953, 0.08116], [0.8993, 0.0861], [0.917, 0.09938], [0.9222, 0.1042], [0.9359, 0.1173], [0.9419, 0.1222], [0.9468, 0.1275], [0.9597, 0.1422], [0.9679, 0.1474], [0.9827, 0.1631], [0.9844, 0.1681], [1.003, 0.1841], [1.004, 0.1892]], \"data01\": [[-0.010110000000000008, 1.0215319948670804e-06], [-0.11851, 1.1974456648041306e-05], [-0.26974999999999993, 2.7256009457506892e-05], [-0.53145, 5.369863290525316e-05], [-1.48431, 0.00014997726560842285]]}, \"id\": \"el57604460588752\"});\n",
        "   }(mpld3);\n",
        "}else if(typeof define === \"function\" && define.amd){\n",
        "   // require.js is available: use it to load d3/mpld3\n",
        "   require.config({paths: {d3: \"https://mpld3.github.io/js/d3.v3.min\"}});\n",
        "   require([\"d3\"], function(d3){\n",
        "      window.d3 = d3;\n",
        "      mpld3_load_lib(\"https://mpld3.github.io/js/mpld3.v0.2.js\", function(){\n",
        "         \n",
        "         mpld3.draw_figure(\"fig_el576044605887527203668739\", {\"axes\": [{\"xlim\": [-1.5, 1.5], \"yscale\": \"linear\", \"axesbg\": \"#FFFFFF\", \"texts\": [], \"zoomable\": true, \"images\": [], \"xdomain\": [-1.5, 1.5], \"ylim\": [0.0, 0.00050000000000000001], \"paths\": [], \"sharey\": [], \"sharex\": [], \"axesbgalpha\": null, \"axes\": [{\"scale\": \"linear\", \"tickformat\": null, \"grid\": {\"gridOn\": false}, \"fontsize\": 10.0, \"position\": \"bottom\", \"nticks\": 7, \"tickvalues\": null}, {\"scale\": \"linear\", \"tickformat\": null, \"grid\": {\"gridOn\": false}, \"fontsize\": 10.0, \"position\": \"left\", \"nticks\": 6, \"tickvalues\": null}], \"lines\": [{\"color\": \"#0000FF\", \"yindex\": 1, \"coordinates\": \"data\", \"dasharray\": \"10,0\", \"zorder\": 2, \"alpha\": 1, \"xindex\": 0, \"linewidth\": 1.0, \"data\": \"data01\", \"id\": \"el57604461228624\"}, {\"color\": \"#007F00\", \"yindex\": 1, \"coordinates\": \"data\", \"dasharray\": \"10,0\", \"zorder\": 2, \"alpha\": 1, \"xindex\": 0, \"linewidth\": 1.0, \"data\": \"data02\", \"id\": \"el57604460589008\"}, {\"color\": \"#FF0000\", \"yindex\": 1, \"coordinates\": \"data\", \"dasharray\": \"10,0\", \"zorder\": 2, \"alpha\": 1, \"xindex\": 0, \"linewidth\": 1.0, \"data\": \"data03\", \"id\": \"el57604461230992\"}], \"markers\": [], \"id\": \"el57604458020304\", \"ydomain\": [0.0, 0.00050000000000000001], \"collections\": [], \"xscale\": \"linear\", \"bbox\": [0.125, 0.125, 0.77500000000000002, 0.77500000000000002]}], \"height\": 320.0, \"width\": 480.0, \"plugins\": [{\"type\": \"reset\"}, {\"enabled\": false, \"button\": true, \"type\": \"zoom\"}, {\"enabled\": false, \"button\": true, \"type\": \"boxzoom\"}], \"data\": {\"data02\": [[-0.0036599999999999966, 3.7415661418932697e-06], [-0.06491000000000002, 6.635657329789412e-05], [-0.18180999999999992, 0.0001858617869556327], [-0.4296, 0.0004391739930484563], [-1.3692000000000002, 0.001399713759967287]], \"data03\": [[-0.00112, 1.269e-08], [0.01185, -4.919e-08], [0.0194, -2.346e-08], [0.02734, 9.943e-08], [0.03817, 1.392e-07], [0.04657, 7.699e-08], [0.05578, 2.678e-08], [0.06443, 1.556e-07], [0.07474, 5.443e-08], [0.08368, 3.222e-07], [0.09353, 3.742e-07], [0.1034, 4.058e-07], [0.113, 4.562e-07], [0.1229, 2.05e-07], [0.1291, 3.761e-07], [0.1407, 6.448e-07], [0.1503, 1.786e-07], [0.1586, 3.138e-07], [0.1677, 6.338e-07], [0.1762, 6.798e-07], [0.187, 7.852e-07], [0.198, 6.724e-07], [0.2066, 6.222e-07], [0.2136, 7.788e-07], [0.222, 7.663e-07], [0.2315, 9.89e-07], [0.2395, 1.124e-06], [0.2519, 1.121e-06], [0.2589, 9.979e-07], [0.2691, 1.415e-06], [0.2809, 1.55e-06], [0.289, 1.7e-06], [0.2967, 1.842e-06], [0.3072, 2.147e-06], [0.3163, 2.302e-06], [0.3218, 2.836e-06], [0.3339, 3.256e-06], [0.3428, 3.719e-06], [0.3539, 4.42e-06], [0.3608, 5.275e-06], [0.3706, 5.867e-06], [0.3799, 6.967e-06], [0.3876, 7.963e-06], [0.399, 9.899e-06], [0.4076, 1.18e-05], [0.4172, 1.404e-05], [0.4239, 1.673e-05], [0.4344, 1.947e-05], [0.4425, 2.311e-05], [0.4497, 2.724e-05], [0.461, 3.223e-05], [0.4639, 3.824e-05], [0.4737, 4.561e-05], [0.4815, 5.347e-05], [0.491, 6.339e-05], [0.4961, 7.223e-05], [0.5029, 8.521e-05], [0.5128, 9.842e-05], [0.5199, 0.0001138], [0.5245, 0.0001299], [0.53, 0.0001483], [0.537, 0.00017], [0.5426, 0.0001945], [0.5492, 0.0002213], [0.554, 0.0002487], [0.568, 0.0003162], [0.5769, 0.0003825], [0.5855, 0.0004501], [0.5937, 0.0005588], [0.6011, 0.0006649], [0.6122, 0.0008161], [0.6178, 0.0009638], [0.6328, 0.001168], [0.6376, 0.001378], [0.6485, 0.001696], [0.681, 0.003506], [0.6939, 0.004591], [0.7048, 0.005708], [0.7125, 0.00667], [0.7223, 0.007922], [0.7341, 0.009253], [0.7402, 0.01068], [0.7487, 0.01218], [0.7536, 0.01373], [0.7623, 0.01542], [0.7687, 0.01734], [0.7805, 0.01951], [0.7862, 0.02191], [0.7953, 0.02437], [0.7993, 0.0272], [0.8063, 0.03015], [0.8155, 0.03321], [0.8213, 0.0365], [0.8295, 0.03989], [0.8371, 0.04384], [0.8434, 0.0478], [0.8506, 0.05181], [0.862, 0.05635], [0.8663, 0.0609], [0.8861, 0.07229], [0.8874, 0.07647], [0.8953, 0.08116], [0.8993, 0.0861], [0.917, 0.09938], [0.9222, 0.1042], [0.9359, 0.1173], [0.9419, 0.1222], [0.9468, 0.1275], [0.9597, 0.1422], [0.9679, 0.1474], [0.9827, 0.1631], [0.9844, 0.1681], [1.003, 0.1841], [1.004, 0.1892]], \"data01\": [[-0.010110000000000008, 1.0215319948670804e-06], [-0.11851, 1.1974456648041306e-05], [-0.26974999999999993, 2.7256009457506892e-05], [-0.53145, 5.369863290525316e-05], [-1.48431, 0.00014997726560842285]]}, \"id\": \"el57604460588752\"});\n",
        "      });\n",
        "    });\n",
        "}else{\n",
        "    // require.js not available: dynamically load d3 & mpld3\n",
        "    mpld3_load_lib(\"https://mpld3.github.io/js/d3.v3.min.js\", function(){\n",
        "         mpld3_load_lib(\"https://mpld3.github.io/js/mpld3.v0.2.js\", function(){\n",
        "                 \n",
        "                 mpld3.draw_figure(\"fig_el576044605887527203668739\", {\"axes\": [{\"xlim\": [-1.5, 1.5], \"yscale\": \"linear\", \"axesbg\": \"#FFFFFF\", \"texts\": [], \"zoomable\": true, \"images\": [], \"xdomain\": [-1.5, 1.5], \"ylim\": [0.0, 0.00050000000000000001], \"paths\": [], \"sharey\": [], \"sharex\": [], \"axesbgalpha\": null, \"axes\": [{\"scale\": \"linear\", \"tickformat\": null, \"grid\": {\"gridOn\": false}, \"fontsize\": 10.0, \"position\": \"bottom\", \"nticks\": 7, \"tickvalues\": null}, {\"scale\": \"linear\", \"tickformat\": null, \"grid\": {\"gridOn\": false}, \"fontsize\": 10.0, \"position\": \"left\", \"nticks\": 6, \"tickvalues\": null}], \"lines\": [{\"color\": \"#0000FF\", \"yindex\": 1, \"coordinates\": \"data\", \"dasharray\": \"10,0\", \"zorder\": 2, \"alpha\": 1, \"xindex\": 0, \"linewidth\": 1.0, \"data\": \"data01\", \"id\": \"el57604461228624\"}, {\"color\": \"#007F00\", \"yindex\": 1, \"coordinates\": \"data\", \"dasharray\": \"10,0\", \"zorder\": 2, \"alpha\": 1, \"xindex\": 0, \"linewidth\": 1.0, \"data\": \"data02\", \"id\": \"el57604460589008\"}, {\"color\": \"#FF0000\", \"yindex\": 1, \"coordinates\": \"data\", \"dasharray\": \"10,0\", \"zorder\": 2, \"alpha\": 1, \"xindex\": 0, \"linewidth\": 1.0, \"data\": \"data03\", \"id\": \"el57604461230992\"}], \"markers\": [], \"id\": \"el57604458020304\", \"ydomain\": [0.0, 0.00050000000000000001], \"collections\": [], \"xscale\": \"linear\", \"bbox\": [0.125, 0.125, 0.77500000000000002, 0.77500000000000002]}], \"height\": 320.0, \"width\": 480.0, \"plugins\": [{\"type\": \"reset\"}, {\"enabled\": false, \"button\": true, \"type\": \"zoom\"}, {\"enabled\": false, \"button\": true, \"type\": \"boxzoom\"}], \"data\": {\"data02\": [[-0.0036599999999999966, 3.7415661418932697e-06], [-0.06491000000000002, 6.635657329789412e-05], [-0.18180999999999992, 0.0001858617869556327], [-0.4296, 0.0004391739930484563], [-1.3692000000000002, 0.001399713759967287]], \"data03\": [[-0.00112, 1.269e-08], [0.01185, -4.919e-08], [0.0194, -2.346e-08], [0.02734, 9.943e-08], [0.03817, 1.392e-07], [0.04657, 7.699e-08], [0.05578, 2.678e-08], [0.06443, 1.556e-07], [0.07474, 5.443e-08], [0.08368, 3.222e-07], [0.09353, 3.742e-07], [0.1034, 4.058e-07], [0.113, 4.562e-07], [0.1229, 2.05e-07], [0.1291, 3.761e-07], [0.1407, 6.448e-07], [0.1503, 1.786e-07], [0.1586, 3.138e-07], [0.1677, 6.338e-07], [0.1762, 6.798e-07], [0.187, 7.852e-07], [0.198, 6.724e-07], [0.2066, 6.222e-07], [0.2136, 7.788e-07], [0.222, 7.663e-07], [0.2315, 9.89e-07], [0.2395, 1.124e-06], [0.2519, 1.121e-06], [0.2589, 9.979e-07], [0.2691, 1.415e-06], [0.2809, 1.55e-06], [0.289, 1.7e-06], [0.2967, 1.842e-06], [0.3072, 2.147e-06], [0.3163, 2.302e-06], [0.3218, 2.836e-06], [0.3339, 3.256e-06], [0.3428, 3.719e-06], [0.3539, 4.42e-06], [0.3608, 5.275e-06], [0.3706, 5.867e-06], [0.3799, 6.967e-06], [0.3876, 7.963e-06], [0.399, 9.899e-06], [0.4076, 1.18e-05], [0.4172, 1.404e-05], [0.4239, 1.673e-05], [0.4344, 1.947e-05], [0.4425, 2.311e-05], [0.4497, 2.724e-05], [0.461, 3.223e-05], [0.4639, 3.824e-05], [0.4737, 4.561e-05], [0.4815, 5.347e-05], [0.491, 6.339e-05], [0.4961, 7.223e-05], [0.5029, 8.521e-05], [0.5128, 9.842e-05], [0.5199, 0.0001138], [0.5245, 0.0001299], [0.53, 0.0001483], [0.537, 0.00017], [0.5426, 0.0001945], [0.5492, 0.0002213], [0.554, 0.0002487], [0.568, 0.0003162], [0.5769, 0.0003825], [0.5855, 0.0004501], [0.5937, 0.0005588], [0.6011, 0.0006649], [0.6122, 0.0008161], [0.6178, 0.0009638], [0.6328, 0.001168], [0.6376, 0.001378], [0.6485, 0.001696], [0.681, 0.003506], [0.6939, 0.004591], [0.7048, 0.005708], [0.7125, 0.00667], [0.7223, 0.007922], [0.7341, 0.009253], [0.7402, 0.01068], [0.7487, 0.01218], [0.7536, 0.01373], [0.7623, 0.01542], [0.7687, 0.01734], [0.7805, 0.01951], [0.7862, 0.02191], [0.7953, 0.02437], [0.7993, 0.0272], [0.8063, 0.03015], [0.8155, 0.03321], [0.8213, 0.0365], [0.8295, 0.03989], [0.8371, 0.04384], [0.8434, 0.0478], [0.8506, 0.05181], [0.862, 0.05635], [0.8663, 0.0609], [0.8861, 0.07229], [0.8874, 0.07647], [0.8953, 0.08116], [0.8993, 0.0861], [0.917, 0.09938], [0.9222, 0.1042], [0.9359, 0.1173], [0.9419, 0.1222], [0.9468, 0.1275], [0.9597, 0.1422], [0.9679, 0.1474], [0.9827, 0.1631], [0.9844, 0.1681], [1.003, 0.1841], [1.004, 0.1892]], \"data01\": [[-0.010110000000000008, 1.0215319948670804e-06], [-0.11851, 1.1974456648041306e-05], [-0.26974999999999993, 2.7256009457506892e-05], [-0.53145, 5.369863290525316e-05], [-1.48431, 0.00014997726560842285]]}, \"id\": \"el57604460588752\"});\n",
        "            })\n",
        "         });\n",
        "}\n",
        "</script>"
       ],
       "metadata": {},
       "output_type": "display_data",
       "png": "[encoded data removed]",
       "text": [
        "<matplotlib.figure.Figure at 0x109df2ed0>"
       ]
      }
     ],
     "prompt_number": 36
    },
    {
     "cell_type": "heading",
     "level": 1,
     "metadata": {},
     "source": [
      "3.12"
     ]
    },
    {
     "cell_type": "code",
     "collapsed": false,
     "input": [
      "v_in = [0.25,0.5,0.7,1,2]\n",
      "amp =[116e-3,56e-3,23e-3,14e-3,7e-3]\n",
      "plt.plot(v_in,amp,'o')\n",
      "plt.plot(v_in,amp,'-')"
     ],
     "language": "python",
     "metadata": {},
     "outputs": [
      {
       "metadata": {},
       "output_type": "pyout",
       "prompt_number": 14,
       "text": [
        "[<matplotlib.lines.Line2D at 0x10972b150>]"
       ]
      },
      {
       "metadata": {},
       "output_type": "display_data",
       "png": "[encoded data removed]",
       "text": [
        "<matplotlib.figure.Figure at 0x10972b810>"
       ]
      }
     ],
     "prompt_number": 14
    },
    {
     "cell_type": "code",
     "collapsed": false,
     "input": [
      "mpld3.disable_notebook()"
     ],
     "language": "python",
     "metadata": {},
     "outputs": [],
     "prompt_number": 40
    },
    {
     "cell_type": "code",
     "collapsed": false,
     "input": [
      "plt.semilogy(v_in,amp,'o')\n",
      "plt.semilogy(v_in,amp,'-')\n",
      "fit_and_plot(v_in,log(amp))\n",
      "# plt.plot(v_in,amp,'-')"
     ],
     "language": "python",
     "metadata": {},
     "outputs": [
      {
       "output_type": "stream",
       "stream": "stdout",
       "text": [
        "[-1.48917614 -2.28002385]\n",
        " \n",
        "-1.489 x - 2.28\n"
       ]
      },
      {
       "metadata": {},
       "output_type": "pyout",
       "prompt_number": 43,
       "text": [
        "poly1d([-1.48917614, -2.28002385])"
       ]
      },
      {
       "metadata": {},
       "output_type": "display_data",
       "png": "[encoded data removed]",
       "text": [
        "<matplotlib.figure.Figure at 0x109e7e590>"
       ]
      },
      {
       "metadata": {},
       "output_type": "display_data",
       "png": "[encoded data removed]",
       "text": [
        "<matplotlib.figure.Figure at 0x109ed1f10>"
       ]
      }
     ],
     "prompt_number": 43
    },
    {
     "cell_type": "heading",
     "level": 1,
     "metadata": {},
     "source": [
      "3.13 LED"
     ]
    },
    {
     "cell_type": "code",
     "collapsed": false,
     "input": [
      "r = [300,3e3,30e3,300e3,100]\n",
      "v = [1.7202,2.0284,2.3278,2.6473,1.442]"
     ],
     "language": "python",
     "metadata": {},
     "outputs": [],
     "prompt_number": 154
    },
    {
     "cell_type": "code",
     "collapsed": false,
     "input": [
      "# plt.semilogx(r,v,'o')\n",
      "fit_and_plot(log10(r),v,title=\"LED response\", ylabel= \"Voltage drop across LED [V]\",xlabel=\"log(Resistance) [$\\Omega$]\")"
     ],
     "language": "python",
     "metadata": {},
     "outputs": [
      {
       "output_type": "stream",
       "stream": "stdout",
       "text": [
        "[ 0.33333783  0.8392249 ]\n",
        " \n",
        "0.3333 x + 0.8392\n"
       ]
      },
      {
       "metadata": {},
       "output_type": "pyout",
       "prompt_number": 155,
       "text": [
        "poly1d([ 0.33333783,  0.8392249 ])"
       ]
      },
      {
       "metadata": {},
       "output_type": "display_data",
       "png": "[encoded data removed]",
       "text": [
        "<matplotlib.figure.Figure at 0x109e2a4d0>"
       ]
      }
     ],
     "prompt_number": 155
    },
    {
     "cell_type": "heading",
     "level": 1,
     "metadata": {},
     "source": [
      "3.14 LED Curve Tracer"
     ]
    },
    {
     "cell_type": "code",
     "collapsed": false,
     "input": [
      "cd updated/"
     ],
     "language": "python",
     "metadata": {},
     "outputs": [
      {
       "output_type": "stream",
       "stream": "stdout",
       "text": [
        "/Users/dorislee/Desktop/Spring_2015/Phys111/111BSClab/lab3/data/updated\n"
       ]
      }
     ],
     "prompt_number": 21
    },
    {
     "cell_type": "code",
     "collapsed": false,
     "input": [
      "data= np.loadtxt(\"led.dat\")#,delimiter=\" \")\n",
      "v = data[::,0]\n",
      "i = data[::,1]\n",
      "#data from 3.4\n",
      "plt.semilogy(v,i,'-')\n",
      "plt.title(\"LED characteristic curve\",fontsize=13)\n",
      "plt.xlabel(\"Voltage [V]\",fontsize=12)\n",
      "plt.ylabel(\"log(Current) [A]\",fontsize=12)"
     ],
     "language": "python",
     "metadata": {},
     "outputs": [
      {
       "metadata": {},
       "output_type": "pyout",
       "prompt_number": 22,
       "text": [
        "<matplotlib.text.Text at 0x109849550>"
       ]
      },
      {
       "metadata": {},
       "output_type": "display_data",
       "png": "[encoded data removed]",
       "text": [
        "<matplotlib.figure.Figure at 0x10979cb90>"
       ]
      }
     ],
     "prompt_number": 22
    },
    {
     "cell_type": "heading",
     "level": 1,
     "metadata": {},
     "source": [
      "3.18 Zener Diode"
     ]
    },
    {
     "cell_type": "code",
     "collapsed": false,
     "input": [
      "data= np.loadtxt(\"1N5234.dat\")\n",
      "v = data[::,0]\n",
      "i = data[::,1]\n",
      "#data from 3.4\n",
      "plt.semilogy(v,i,'-')\n",
      "plt.title(\"1N5234 Diode characteristic curve\",fontsize=13)\n",
      "plt.xlabel(\"Voltage [V]\",fontsize=12)\n",
      "plt.ylabel(\"log(Current) [A]\",fontsize=12)"
     ],
     "language": "python",
     "metadata": {},
     "outputs": [
      {
       "metadata": {},
       "output_type": "pyout",
       "prompt_number": 24,
       "text": [
        "<matplotlib.text.Text at 0x109951410>"
       ]
      },
      {
       "metadata": {},
       "output_type": "display_data",
       "png": "[encoded data removed]",
       "text": [
        "<matplotlib.figure.Figure at 0x10993c590>"
       ]
      }
     ],
     "prompt_number": 24
    },
    {
     "cell_type": "code",
     "collapsed": false,
     "input": [
      "v = [0.25,0.5,0.7,1,2]\n",
      "a = [115e-3,56e-3,22e-3,11e-3,10e-3]"
     ],
     "language": "python",
     "metadata": {},
     "outputs": [],
     "prompt_number": 231
    },
    {
     "cell_type": "code",
     "collapsed": false,
     "input": [
      "mpld3.disable_notebook()"
     ],
     "language": "python",
     "metadata": {},
     "outputs": [],
     "prompt_number": 233
    },
    {
     "cell_type": "code",
     "collapsed": false,
     "input": [
      "plt.plot(v,a)"
     ],
     "language": "python",
     "metadata": {},
     "outputs": [
      {
       "metadata": {},
       "output_type": "pyout",
       "prompt_number": 234,
       "text": [
        "[<matplotlib.lines.Line2D at 0x10be13810>]"
       ]
      },
      {
       "metadata": {},
       "output_type": "display_data",
       "png": "[encoded data removed]",
       "text": [
        "<matplotlib.figure.Figure at 0x10bd48490>"
       ]
      }
     ],
     "prompt_number": 234
    },
    {
     "cell_type": "code",
     "collapsed": false,
     "input": [],
     "language": "python",
     "metadata": {},
     "outputs": []
    }
   ],
   "metadata": {}
  }
 ]
}